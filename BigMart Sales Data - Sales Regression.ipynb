{
 "cells": [
  {
   "cell_type": "markdown",
   "metadata": {},
   "source": [
    "# BigMart Sales Prediction Dataset - A Regression Problem\n",
    "### The Data Scientists at BigMart have sales data in different cities. The aim is to build a predictive model and find out the sales of each product at a particular store.\n",
    "\n",
    "After exploring the data using EDA, we fill out the missing values. Than we deal with the outliers and begin modeling using different Regression Algorithms. In the end we use deep learning to see if we can achieve better results."
   ]
  },
  {
   "cell_type": "markdown",
   "metadata": {},
   "source": [
    "## Import Libraries and Load Data"
   ]
  },
  {
   "cell_type": "code",
   "execution_count": 35,
   "metadata": {
    "_cell_guid": "b1076dfc-b9ad-4769-8c92-a6c4dae69d19",
    "_uuid": "8f2839f25d086af736a60e9eeb907d3b93b6e0e5",
    "execution": {
     "iopub.execute_input": "2022-12-15T22:59:20.296619Z",
     "iopub.status.busy": "2022-12-15T22:59:20.296008Z",
     "iopub.status.idle": "2022-12-15T22:59:20.331285Z",
     "shell.execute_reply": "2022-12-15T22:59:20.330333Z",
     "shell.execute_reply.started": "2022-12-15T22:59:20.296573Z"
    }
   },
   "outputs": [
    {
     "name": "stdout",
     "output_type": "stream",
     "text": [
      "/kaggle/input/bigmart-sales-data/Train.csv\n",
      "/kaggle/input/bigmart-sales-data/Test.csv\n"
     ]
    }
   ],
   "source": [
    "#import libraries\n",
    "import numpy as np\n",
    "import pandas as pd\n",
    "import seaborn as sns\n",
    "import matplotlib.pyplot as plt\n",
    "import warnings\n",
    "warnings.filterwarnings(\"ignore\")\n",
    "\n",
    "import os\n",
    "for dirname, _, filenames in os.walk('/kaggle/input'):\n",
    "    for filename in filenames:\n",
    "        print(os.path.join(dirname, filename)) # file path"
   ]
  },
  {
   "cell_type": "code",
   "execution_count": 58,
   "metadata": {
    "execution": {
     "iopub.execute_input": "2022-12-15T23:06:39.633972Z",
     "iopub.status.busy": "2022-12-15T23:06:39.633568Z",
     "iopub.status.idle": "2022-12-15T23:06:39.685247Z",
     "shell.execute_reply": "2022-12-15T23:06:39.684125Z",
     "shell.execute_reply.started": "2022-12-15T23:06:39.633941Z"
    }
   },
   "outputs": [],
   "source": [
    "# Load Datas\n",
    "df_test=pd.read_csv(\"/kaggle/input/bigmart-sales-data/Test.csv\")\n",
    "df_train=pd.read_csv(\"/kaggle/input/bigmart-sales-data/Train.csv\")"
   ]
  },
  {
   "cell_type": "code",
   "execution_count": 59,
   "metadata": {
    "execution": {
     "iopub.execute_input": "2022-12-15T23:06:39.871576Z",
     "iopub.status.busy": "2022-12-15T23:06:39.871161Z",
     "iopub.status.idle": "2022-12-15T23:06:39.879355Z",
     "shell.execute_reply": "2022-12-15T23:06:39.878223Z",
     "shell.execute_reply.started": "2022-12-15T23:06:39.871543Z"
    }
   },
   "outputs": [
    {
     "data": {
      "text/plain": [
       "((8523, 12), (5681, 11))"
      ]
     },
     "execution_count": 59,
     "metadata": {},
     "output_type": "execute_result"
    }
   ],
   "source": [
    "df_train.shape, df_test.shape # shapes of train and test df"
   ]
  },
  {
   "cell_type": "markdown",
   "metadata": {},
   "source": [
    "## EDA - Exploratory Data Analysis"
   ]
  },
  {
   "cell_type": "code",
   "execution_count": 60,
   "metadata": {
    "execution": {
     "iopub.execute_input": "2022-12-15T23:06:43.094690Z",
     "iopub.status.busy": "2022-12-15T23:06:43.094286Z",
     "iopub.status.idle": "2022-12-15T23:06:43.115923Z",
     "shell.execute_reply": "2022-12-15T23:06:43.114415Z",
     "shell.execute_reply.started": "2022-12-15T23:06:43.094656Z"
    }
   },
   "outputs": [
    {
     "data": {
      "text/html": [
       "<div>\n",
       "<style scoped>\n",
       "    .dataframe tbody tr th:only-of-type {\n",
       "        vertical-align: middle;\n",
       "    }\n",
       "\n",
       "    .dataframe tbody tr th {\n",
       "        vertical-align: top;\n",
       "    }\n",
       "\n",
       "    .dataframe thead th {\n",
       "        text-align: right;\n",
       "    }\n",
       "</style>\n",
       "<table border=\"1\" class=\"dataframe\">\n",
       "  <thead>\n",
       "    <tr style=\"text-align: right;\">\n",
       "      <th></th>\n",
       "      <th>Item_Identifier</th>\n",
       "      <th>Item_Weight</th>\n",
       "      <th>Item_Fat_Content</th>\n",
       "      <th>Item_Visibility</th>\n",
       "      <th>Item_Type</th>\n",
       "      <th>Item_MRP</th>\n",
       "      <th>Outlet_Identifier</th>\n",
       "      <th>Outlet_Establishment_Year</th>\n",
       "      <th>Outlet_Size</th>\n",
       "      <th>Outlet_Location_Type</th>\n",
       "      <th>Outlet_Type</th>\n",
       "      <th>Item_Outlet_Sales</th>\n",
       "    </tr>\n",
       "  </thead>\n",
       "  <tbody>\n",
       "    <tr>\n",
       "      <th>0</th>\n",
       "      <td>FDA15</td>\n",
       "      <td>9.30</td>\n",
       "      <td>Low Fat</td>\n",
       "      <td>0.016047</td>\n",
       "      <td>Dairy</td>\n",
       "      <td>249.8092</td>\n",
       "      <td>OUT049</td>\n",
       "      <td>1999</td>\n",
       "      <td>Medium</td>\n",
       "      <td>Tier 1</td>\n",
       "      <td>Supermarket Type1</td>\n",
       "      <td>3735.1380</td>\n",
       "    </tr>\n",
       "    <tr>\n",
       "      <th>1</th>\n",
       "      <td>DRC01</td>\n",
       "      <td>5.92</td>\n",
       "      <td>Regular</td>\n",
       "      <td>0.019278</td>\n",
       "      <td>Soft Drinks</td>\n",
       "      <td>48.2692</td>\n",
       "      <td>OUT018</td>\n",
       "      <td>2009</td>\n",
       "      <td>Medium</td>\n",
       "      <td>Tier 3</td>\n",
       "      <td>Supermarket Type2</td>\n",
       "      <td>443.4228</td>\n",
       "    </tr>\n",
       "    <tr>\n",
       "      <th>2</th>\n",
       "      <td>FDN15</td>\n",
       "      <td>17.50</td>\n",
       "      <td>Low Fat</td>\n",
       "      <td>0.016760</td>\n",
       "      <td>Meat</td>\n",
       "      <td>141.6180</td>\n",
       "      <td>OUT049</td>\n",
       "      <td>1999</td>\n",
       "      <td>Medium</td>\n",
       "      <td>Tier 1</td>\n",
       "      <td>Supermarket Type1</td>\n",
       "      <td>2097.2700</td>\n",
       "    </tr>\n",
       "    <tr>\n",
       "      <th>3</th>\n",
       "      <td>FDX07</td>\n",
       "      <td>19.20</td>\n",
       "      <td>Regular</td>\n",
       "      <td>0.000000</td>\n",
       "      <td>Fruits and Vegetables</td>\n",
       "      <td>182.0950</td>\n",
       "      <td>OUT010</td>\n",
       "      <td>1998</td>\n",
       "      <td>NaN</td>\n",
       "      <td>Tier 3</td>\n",
       "      <td>Grocery Store</td>\n",
       "      <td>732.3800</td>\n",
       "    </tr>\n",
       "    <tr>\n",
       "      <th>4</th>\n",
       "      <td>NCD19</td>\n",
       "      <td>8.93</td>\n",
       "      <td>Low Fat</td>\n",
       "      <td>0.000000</td>\n",
       "      <td>Household</td>\n",
       "      <td>53.8614</td>\n",
       "      <td>OUT013</td>\n",
       "      <td>1987</td>\n",
       "      <td>High</td>\n",
       "      <td>Tier 3</td>\n",
       "      <td>Supermarket Type1</td>\n",
       "      <td>994.7052</td>\n",
       "    </tr>\n",
       "  </tbody>\n",
       "</table>\n",
       "</div>"
      ],
      "text/plain": [
       "  Item_Identifier  Item_Weight Item_Fat_Content  Item_Visibility  \\\n",
       "0           FDA15         9.30          Low Fat         0.016047   \n",
       "1           DRC01         5.92          Regular         0.019278   \n",
       "2           FDN15        17.50          Low Fat         0.016760   \n",
       "3           FDX07        19.20          Regular         0.000000   \n",
       "4           NCD19         8.93          Low Fat         0.000000   \n",
       "\n",
       "               Item_Type  Item_MRP Outlet_Identifier  \\\n",
       "0                  Dairy  249.8092            OUT049   \n",
       "1            Soft Drinks   48.2692            OUT018   \n",
       "2                   Meat  141.6180            OUT049   \n",
       "3  Fruits and Vegetables  182.0950            OUT010   \n",
       "4              Household   53.8614            OUT013   \n",
       "\n",
       "   Outlet_Establishment_Year Outlet_Size Outlet_Location_Type  \\\n",
       "0                       1999      Medium               Tier 1   \n",
       "1                       2009      Medium               Tier 3   \n",
       "2                       1999      Medium               Tier 1   \n",
       "3                       1998         NaN               Tier 3   \n",
       "4                       1987        High               Tier 3   \n",
       "\n",
       "         Outlet_Type  Item_Outlet_Sales  \n",
       "0  Supermarket Type1          3735.1380  \n",
       "1  Supermarket Type2           443.4228  \n",
       "2  Supermarket Type1          2097.2700  \n",
       "3      Grocery Store           732.3800  \n",
       "4  Supermarket Type1           994.7052  "
      ]
     },
     "execution_count": 60,
     "metadata": {},
     "output_type": "execute_result"
    }
   ],
   "source": [
    "df=df_train # assign as df for easier usage\n",
    "df.head() # first 5 entries"
   ]
  },
  {
   "cell_type": "code",
   "execution_count": 5,
   "metadata": {
    "execution": {
     "iopub.execute_input": "2022-12-15T22:46:57.490341Z",
     "iopub.status.busy": "2022-12-15T22:46:57.489619Z",
     "iopub.status.idle": "2022-12-15T22:46:57.509746Z",
     "shell.execute_reply": "2022-12-15T22:46:57.508222Z",
     "shell.execute_reply.started": "2022-12-15T22:46:57.490301Z"
    }
   },
   "outputs": [
    {
     "name": "stdout",
     "output_type": "stream",
     "text": [
      "<class 'pandas.core.frame.DataFrame'>\n",
      "RangeIndex: 8523 entries, 0 to 8522\n",
      "Data columns (total 12 columns):\n",
      " #   Column                     Non-Null Count  Dtype  \n",
      "---  ------                     --------------  -----  \n",
      " 0   Item_Identifier            8523 non-null   object \n",
      " 1   Item_Weight                7060 non-null   float64\n",
      " 2   Item_Fat_Content           8523 non-null   object \n",
      " 3   Item_Visibility            8523 non-null   float64\n",
      " 4   Item_Type                  8523 non-null   object \n",
      " 5   Item_MRP                   8523 non-null   float64\n",
      " 6   Outlet_Identifier          8523 non-null   object \n",
      " 7   Outlet_Establishment_Year  8523 non-null   int64  \n",
      " 8   Outlet_Size                6113 non-null   object \n",
      " 9   Outlet_Location_Type       8523 non-null   object \n",
      " 10  Outlet_Type                8523 non-null   object \n",
      " 11  Item_Outlet_Sales          8523 non-null   float64\n",
      "dtypes: float64(4), int64(1), object(7)\n",
      "memory usage: 799.2+ KB\n"
     ]
    }
   ],
   "source": [
    "df.info() # infos about the rows, columns and datatypes"
   ]
  },
  {
   "cell_type": "code",
   "execution_count": 6,
   "metadata": {
    "execution": {
     "iopub.execute_input": "2022-12-15T22:46:57.511665Z",
     "iopub.status.busy": "2022-12-15T22:46:57.511307Z",
     "iopub.status.idle": "2022-12-15T22:46:57.524025Z",
     "shell.execute_reply": "2022-12-15T22:46:57.522951Z",
     "shell.execute_reply.started": "2022-12-15T22:46:57.511632Z"
    }
   },
   "outputs": [
    {
     "data": {
      "text/plain": [
       "Item_Identifier                 0\n",
       "Item_Weight                  1463\n",
       "Item_Fat_Content                0\n",
       "Item_Visibility                 0\n",
       "Item_Type                       0\n",
       "Item_MRP                        0\n",
       "Outlet_Identifier               0\n",
       "Outlet_Establishment_Year       0\n",
       "Outlet_Size                  2410\n",
       "Outlet_Location_Type            0\n",
       "Outlet_Type                     0\n",
       "Item_Outlet_Sales               0\n",
       "dtype: int64"
      ]
     },
     "execution_count": 6,
     "metadata": {},
     "output_type": "execute_result"
    }
   ],
   "source": [
    "df.isnull().sum() # checking for missing values"
   ]
  },
  {
   "cell_type": "markdown",
   "metadata": {},
   "source": [
    "We have a total amount of 8523 entries with 12 columns of information and some missing values."
   ]
  },
  {
   "cell_type": "code",
   "execution_count": 7,
   "metadata": {
    "execution": {
     "iopub.execute_input": "2022-12-15T22:46:57.526375Z",
     "iopub.status.busy": "2022-12-15T22:46:57.525872Z",
     "iopub.status.idle": "2022-12-15T22:46:57.563872Z",
     "shell.execute_reply": "2022-12-15T22:46:57.562705Z",
     "shell.execute_reply.started": "2022-12-15T22:46:57.526335Z"
    }
   },
   "outputs": [
    {
     "data": {
      "text/html": [
       "<div>\n",
       "<style scoped>\n",
       "    .dataframe tbody tr th:only-of-type {\n",
       "        vertical-align: middle;\n",
       "    }\n",
       "\n",
       "    .dataframe tbody tr th {\n",
       "        vertical-align: top;\n",
       "    }\n",
       "\n",
       "    .dataframe thead th {\n",
       "        text-align: right;\n",
       "    }\n",
       "</style>\n",
       "<table border=\"1\" class=\"dataframe\">\n",
       "  <thead>\n",
       "    <tr style=\"text-align: right;\">\n",
       "      <th></th>\n",
       "      <th>Item_Weight</th>\n",
       "      <th>Item_Visibility</th>\n",
       "      <th>Item_MRP</th>\n",
       "      <th>Outlet_Establishment_Year</th>\n",
       "      <th>Item_Outlet_Sales</th>\n",
       "    </tr>\n",
       "  </thead>\n",
       "  <tbody>\n",
       "    <tr>\n",
       "      <th>count</th>\n",
       "      <td>7060.000000</td>\n",
       "      <td>8523.000000</td>\n",
       "      <td>8523.000000</td>\n",
       "      <td>8523.000000</td>\n",
       "      <td>8523.000000</td>\n",
       "    </tr>\n",
       "    <tr>\n",
       "      <th>mean</th>\n",
       "      <td>12.857645</td>\n",
       "      <td>0.066132</td>\n",
       "      <td>140.992782</td>\n",
       "      <td>1997.831867</td>\n",
       "      <td>2181.288914</td>\n",
       "    </tr>\n",
       "    <tr>\n",
       "      <th>std</th>\n",
       "      <td>4.643456</td>\n",
       "      <td>0.051598</td>\n",
       "      <td>62.275067</td>\n",
       "      <td>8.371760</td>\n",
       "      <td>1706.499616</td>\n",
       "    </tr>\n",
       "    <tr>\n",
       "      <th>min</th>\n",
       "      <td>4.555000</td>\n",
       "      <td>0.000000</td>\n",
       "      <td>31.290000</td>\n",
       "      <td>1985.000000</td>\n",
       "      <td>33.290000</td>\n",
       "    </tr>\n",
       "    <tr>\n",
       "      <th>25%</th>\n",
       "      <td>8.773750</td>\n",
       "      <td>0.026989</td>\n",
       "      <td>93.826500</td>\n",
       "      <td>1987.000000</td>\n",
       "      <td>834.247400</td>\n",
       "    </tr>\n",
       "    <tr>\n",
       "      <th>50%</th>\n",
       "      <td>12.600000</td>\n",
       "      <td>0.053931</td>\n",
       "      <td>143.012800</td>\n",
       "      <td>1999.000000</td>\n",
       "      <td>1794.331000</td>\n",
       "    </tr>\n",
       "    <tr>\n",
       "      <th>75%</th>\n",
       "      <td>16.850000</td>\n",
       "      <td>0.094585</td>\n",
       "      <td>185.643700</td>\n",
       "      <td>2004.000000</td>\n",
       "      <td>3101.296400</td>\n",
       "    </tr>\n",
       "    <tr>\n",
       "      <th>max</th>\n",
       "      <td>21.350000</td>\n",
       "      <td>0.328391</td>\n",
       "      <td>266.888400</td>\n",
       "      <td>2009.000000</td>\n",
       "      <td>13086.964800</td>\n",
       "    </tr>\n",
       "  </tbody>\n",
       "</table>\n",
       "</div>"
      ],
      "text/plain": [
       "       Item_Weight  Item_Visibility     Item_MRP  Outlet_Establishment_Year  \\\n",
       "count  7060.000000      8523.000000  8523.000000                8523.000000   \n",
       "mean     12.857645         0.066132   140.992782                1997.831867   \n",
       "std       4.643456         0.051598    62.275067                   8.371760   \n",
       "min       4.555000         0.000000    31.290000                1985.000000   \n",
       "25%       8.773750         0.026989    93.826500                1987.000000   \n",
       "50%      12.600000         0.053931   143.012800                1999.000000   \n",
       "75%      16.850000         0.094585   185.643700                2004.000000   \n",
       "max      21.350000         0.328391   266.888400                2009.000000   \n",
       "\n",
       "       Item_Outlet_Sales  \n",
       "count        8523.000000  \n",
       "mean         2181.288914  \n",
       "std          1706.499616  \n",
       "min            33.290000  \n",
       "25%           834.247400  \n",
       "50%          1794.331000  \n",
       "75%          3101.296400  \n",
       "max         13086.964800  "
      ]
     },
     "execution_count": 7,
     "metadata": {},
     "output_type": "execute_result"
    }
   ],
   "source": [
    "df.describe() # statistical infos of the columns"
   ]
  },
  {
   "cell_type": "code",
   "execution_count": 8,
   "metadata": {
    "execution": {
     "iopub.execute_input": "2022-12-15T22:46:57.566022Z",
     "iopub.status.busy": "2022-12-15T22:46:57.565313Z",
     "iopub.status.idle": "2022-12-15T22:46:57.582778Z",
     "shell.execute_reply": "2022-12-15T22:46:57.581473Z",
     "shell.execute_reply.started": "2022-12-15T22:46:57.565971Z"
    }
   },
   "outputs": [
    {
     "data": {
      "text/html": [
       "<div>\n",
       "<style scoped>\n",
       "    .dataframe tbody tr th:only-of-type {\n",
       "        vertical-align: middle;\n",
       "    }\n",
       "\n",
       "    .dataframe tbody tr th {\n",
       "        vertical-align: top;\n",
       "    }\n",
       "\n",
       "    .dataframe thead th {\n",
       "        text-align: right;\n",
       "    }\n",
       "</style>\n",
       "<table border=\"1\" class=\"dataframe\">\n",
       "  <thead>\n",
       "    <tr style=\"text-align: right;\">\n",
       "      <th></th>\n",
       "      <th>Item_Weight</th>\n",
       "      <th>Item_Visibility</th>\n",
       "      <th>Item_MRP</th>\n",
       "      <th>Outlet_Establishment_Year</th>\n",
       "      <th>Item_Outlet_Sales</th>\n",
       "    </tr>\n",
       "  </thead>\n",
       "  <tbody>\n",
       "    <tr>\n",
       "      <th>Item_Weight</th>\n",
       "      <td>1.000000</td>\n",
       "      <td>-0.014048</td>\n",
       "      <td>0.027141</td>\n",
       "      <td>-0.011588</td>\n",
       "      <td>0.014123</td>\n",
       "    </tr>\n",
       "    <tr>\n",
       "      <th>Item_Visibility</th>\n",
       "      <td>-0.014048</td>\n",
       "      <td>1.000000</td>\n",
       "      <td>-0.001315</td>\n",
       "      <td>-0.074834</td>\n",
       "      <td>-0.128625</td>\n",
       "    </tr>\n",
       "    <tr>\n",
       "      <th>Item_MRP</th>\n",
       "      <td>0.027141</td>\n",
       "      <td>-0.001315</td>\n",
       "      <td>1.000000</td>\n",
       "      <td>0.005020</td>\n",
       "      <td>0.567574</td>\n",
       "    </tr>\n",
       "    <tr>\n",
       "      <th>Outlet_Establishment_Year</th>\n",
       "      <td>-0.011588</td>\n",
       "      <td>-0.074834</td>\n",
       "      <td>0.005020</td>\n",
       "      <td>1.000000</td>\n",
       "      <td>-0.049135</td>\n",
       "    </tr>\n",
       "    <tr>\n",
       "      <th>Item_Outlet_Sales</th>\n",
       "      <td>0.014123</td>\n",
       "      <td>-0.128625</td>\n",
       "      <td>0.567574</td>\n",
       "      <td>-0.049135</td>\n",
       "      <td>1.000000</td>\n",
       "    </tr>\n",
       "  </tbody>\n",
       "</table>\n",
       "</div>"
      ],
      "text/plain": [
       "                           Item_Weight  Item_Visibility  Item_MRP  \\\n",
       "Item_Weight                   1.000000        -0.014048  0.027141   \n",
       "Item_Visibility              -0.014048         1.000000 -0.001315   \n",
       "Item_MRP                      0.027141        -0.001315  1.000000   \n",
       "Outlet_Establishment_Year    -0.011588        -0.074834  0.005020   \n",
       "Item_Outlet_Sales             0.014123        -0.128625  0.567574   \n",
       "\n",
       "                           Outlet_Establishment_Year  Item_Outlet_Sales  \n",
       "Item_Weight                                -0.011588           0.014123  \n",
       "Item_Visibility                            -0.074834          -0.128625  \n",
       "Item_MRP                                    0.005020           0.567574  \n",
       "Outlet_Establishment_Year                   1.000000          -0.049135  \n",
       "Item_Outlet_Sales                          -0.049135           1.000000  "
      ]
     },
     "execution_count": 8,
     "metadata": {},
     "output_type": "execute_result"
    }
   ],
   "source": [
    "df.corr() # the correlation between the columns"
   ]
  },
  {
   "cell_type": "code",
   "execution_count": 9,
   "metadata": {
    "execution": {
     "iopub.execute_input": "2022-12-15T22:46:57.584727Z",
     "iopub.status.busy": "2022-12-15T22:46:57.584021Z",
     "iopub.status.idle": "2022-12-15T22:46:57.998717Z",
     "shell.execute_reply": "2022-12-15T22:46:57.997460Z",
     "shell.execute_reply.started": "2022-12-15T22:46:57.584691Z"
    }
   },
   "outputs": [
    {
     "data": {
      "image/png": "[encoded data removed]",
      "text/plain": [
       "<Figure size 504x504 with 2 Axes>"
      ]
     },
     "metadata": {
      "needs_background": "light"
     },
     "output_type": "display_data"
    }
   ],
   "source": [
    "# Correlation of the columns shown in a heatmap\n",
    "plt.figure(figsize=(7,7))\n",
    "sns.heatmap(df.corr(),annot=True);"
   ]
  },
  {
   "cell_type": "code",
   "execution_count": 10,
   "metadata": {
    "execution": {
     "iopub.execute_input": "2022-12-15T22:46:58.000545Z",
     "iopub.status.busy": "2022-12-15T22:46:58.000162Z",
     "iopub.status.idle": "2022-12-15T22:46:59.134537Z",
     "shell.execute_reply": "2022-12-15T22:46:59.133147Z",
     "shell.execute_reply.started": "2022-12-15T22:46:58.000481Z"
    }
   },
   "outputs": [
    {
     "data": {
      "image/png": "[encoded data removed]",
      "text/plain": [
       "<Figure size 720x720 with 3 Axes>"
      ]
     },
     "metadata": {
      "needs_background": "light"
     },
     "output_type": "display_data"
    }
   ],
   "source": [
    "# plotting the Sales column in different forms\n",
    "fig = plt.figure(figsize=(10,10)) \n",
    "fig.add_subplot(3,1,1)\n",
    "sns.distplot(df['Item_Outlet_Sales'])\n",
    "fig.add_subplot(3,1,2)\n",
    "sns.boxplot(df['Item_Outlet_Sales'])\n",
    "fig.add_subplot(3,1,3)\n",
    "plt.hist((np.log(df.Item_Outlet_Sales)), bins=200);\n",
    "plt.tight_layout();"
   ]
  },
  {
   "cell_type": "markdown",
   "metadata": {},
   "source": [
    "## Missing Value Treatment"
   ]
  },
  {
   "cell_type": "code",
   "execution_count": 61,
   "metadata": {
    "execution": {
     "iopub.execute_input": "2022-12-15T23:06:50.377629Z",
     "iopub.status.busy": "2022-12-15T23:06:50.377221Z",
     "iopub.status.idle": "2022-12-15T23:06:50.999784Z",
     "shell.execute_reply": "2022-12-15T23:06:50.998090Z",
     "shell.execute_reply.started": "2022-12-15T23:06:50.377597Z"
    }
   },
   "outputs": [
    {
     "data": {
      "image/png": "[encoded data removed]",
      "text/plain": [
       "<Figure size 432x288 with 1 Axes>"
      ]
     },
     "metadata": {
      "needs_background": "light"
     },
     "output_type": "display_data"
    }
   ],
   "source": [
    "# fill Item_Weight with mean value\n",
    "df['Item_Weight'].fillna(df['Item_Weight'].mean(),inplace=True) \n",
    "sns.boxplot(x=df['Item_Weight']);"
   ]
  },
  {
   "cell_type": "code",
   "execution_count": 62,
   "metadata": {
    "execution": {
     "iopub.execute_input": "2022-12-15T23:06:51.004333Z",
     "iopub.status.busy": "2022-12-15T23:06:51.003857Z",
     "iopub.status.idle": "2022-12-15T23:06:51.224735Z",
     "shell.execute_reply": "2022-12-15T23:06:51.223578Z",
     "shell.execute_reply.started": "2022-12-15T23:06:51.004281Z"
    }
   },
   "outputs": [
    {
     "data": {
      "image/png": "[encoded data removed]",
      "text/plain": [
       "<Figure size 432x288 with 1 Axes>"
      ]
     },
     "metadata": {
      "needs_background": "light"
     },
     "output_type": "display_data"
    }
   ],
   "source": [
    "# turn Outlet_Size to digits and fill missing values with mode value\n",
    "df['Outlet_Size'].fillna(df['Outlet_Size'].mode()[0], inplace=True)\n",
    "df['Outlet_Size']=df['Outlet_Size'].map({\"Small\":0,\"Medium\":1,\"High\":2}).astype(int)\n",
    "sns.countplot(x=df['Outlet_Size']);"
   ]
  },
  {
   "cell_type": "markdown",
   "metadata": {},
   "source": [
    "## Data Vizualisation and Data Processing"
   ]
  },
  {
   "cell_type": "code",
   "execution_count": 63,
   "metadata": {
    "execution": {
     "iopub.execute_input": "2022-12-15T23:06:55.409089Z",
     "iopub.status.busy": "2022-12-15T23:06:55.408620Z",
     "iopub.status.idle": "2022-12-15T23:06:55.421098Z",
     "shell.execute_reply": "2022-12-15T23:06:55.419807Z",
     "shell.execute_reply.started": "2022-12-15T23:06:55.409051Z"
    }
   },
   "outputs": [
    {
     "data": {
      "text/plain": [
       "(8523, 10)"
      ]
     },
     "execution_count": 63,
     "metadata": {},
     "output_type": "execute_result"
    }
   ],
   "source": [
    "# delete id columns, since they have no correlation with sales\n",
    "df.drop(['Item_Identifier','Outlet_Identifier'],axis=1, inplace = True)\n",
    "df.shape"
   ]
  },
  {
   "cell_type": "code",
   "execution_count": 64,
   "metadata": {
    "execution": {
     "iopub.execute_input": "2022-12-15T23:06:55.669550Z",
     "iopub.status.busy": "2022-12-15T23:06:55.668216Z",
     "iopub.status.idle": "2022-12-15T23:06:55.872565Z",
     "shell.execute_reply": "2022-12-15T23:06:55.871303Z",
     "shell.execute_reply.started": "2022-12-15T23:06:55.669467Z"
    }
   },
   "outputs": [
    {
     "data": {
      "image/png": "[encoded data removed]",
      "text/plain": [
       "<Figure size 432x288 with 1 Axes>"
      ]
     },
     "metadata": {
      "needs_background": "light"
     },
     "output_type": "display_data"
    }
   ],
   "source": [
    "# feature engineering: mapping the fat content to their right entries using dictionaries\n",
    "d={'Low Fat':'Low Fat','Regular':'Regular','LF':\"Low Fat\",'reg':\"Regular\",'low fat':\"Low Fat\"}\n",
    "df['Item_Fat_Content']=df['Item_Fat_Content'].map(d)\n",
    "sns.countplot(x=df['Item_Fat_Content']);"
   ]
  },
  {
   "cell_type": "code",
   "execution_count": 65,
   "metadata": {
    "execution": {
     "iopub.execute_input": "2022-12-15T23:06:58.261011Z",
     "iopub.status.busy": "2022-12-15T23:06:58.260585Z",
     "iopub.status.idle": "2022-12-15T23:06:58.477886Z",
     "shell.execute_reply": "2022-12-15T23:06:58.476758Z",
     "shell.execute_reply.started": "2022-12-15T23:06:58.260975Z"
    }
   },
   "outputs": [
    {
     "data": {
      "text/plain": [
       "<AxesSubplot:xlabel='Outlet_Location_Type', ylabel='count'>"
      ]
     },
     "execution_count": 65,
     "metadata": {},
     "output_type": "execute_result"
    },
    {
     "data": {
      "image/png": "[encoded data removed]",
      "text/plain": [
       "<Figure size 432x288 with 1 Axes>"
      ]
     },
     "metadata": {
      "needs_background": "light"
     },
     "output_type": "display_data"
    }
   ],
   "source": [
    "# get only last character so we only have digits\n",
    "df['Outlet_Location_Type']=df['Outlet_Location_Type'].str[-1:].astype(int)\n",
    "sns.countplot(x=df['Outlet_Location_Type'])"
   ]
  },
  {
   "cell_type": "code",
   "execution_count": 44,
   "metadata": {
    "execution": {
     "iopub.execute_input": "2022-12-15T22:59:51.179413Z",
     "iopub.status.busy": "2022-12-15T22:59:51.178356Z",
     "iopub.status.idle": "2022-12-15T22:59:51.781996Z",
     "shell.execute_reply": "2022-12-15T22:59:51.780788Z",
     "shell.execute_reply.started": "2022-12-15T22:59:51.179373Z"
    }
   },
   "outputs": [
    {
     "data": {
      "image/png": "[encoded data removed]",
      "text/plain": [
       "<Figure size 1080x504 with 3 Axes>"
      ]
     },
     "metadata": {
      "needs_background": "light"
     },
     "output_type": "display_data"
    }
   ],
   "source": [
    "# Plot infos about the Items\n",
    "fig = plt.figure(figsize=(15, 7))\n",
    "fig.add_subplot(1, 3, 1)\n",
    "sns.boxplot(x=df['Item_Visibility']);\n",
    "fig.add_subplot(1, 3, 2)\n",
    "sns.boxplot(x=df['Item_MRP'])\n",
    "fig.add_subplot(1, 3, 3)\n",
    "sns.countplot(x=df['Item_Type']);\n",
    "plt.xticks(rotation=90);\n",
    "plt.tight_layout()"
   ]
  },
  {
   "cell_type": "markdown",
   "metadata": {},
   "source": [
    "### Outlier Treatment"
   ]
  },
  {
   "cell_type": "code",
   "execution_count": 17,
   "metadata": {
    "execution": {
     "iopub.execute_input": "2022-12-15T22:47:00.598825Z",
     "iopub.status.busy": "2022-12-15T22:47:00.598070Z",
     "iopub.status.idle": "2022-12-15T22:47:00.604130Z",
     "shell.execute_reply": "2022-12-15T22:47:00.602855Z",
     "shell.execute_reply.started": "2022-12-15T22:47:00.598779Z"
    }
   },
   "outputs": [],
   "source": [
    "# dealing with the outliers in item visibility\n",
    "#df.quantile(.97).astype('int')\n",
    "#outliers = df.quantile(.97) \n",
    "#df = df[(df['Item_Visibility']<outliers['Item_Visibility'])]\n",
    "#sns.boxplot(x=df['Item_Visibility']);"
   ]
  },
  {
   "cell_type": "markdown",
   "metadata": {},
   "source": [
    "This only reduced the accuracy score so I did run the code again without the outlier treatment."
   ]
  },
  {
   "cell_type": "code",
   "execution_count": 18,
   "metadata": {
    "execution": {
     "iopub.execute_input": "2022-12-15T22:47:00.607955Z",
     "iopub.status.busy": "2022-12-15T22:47:00.607595Z",
     "iopub.status.idle": "2022-12-15T22:47:01.320447Z",
     "shell.execute_reply": "2022-12-15T22:47:01.319224Z",
     "shell.execute_reply.started": "2022-12-15T22:47:00.607925Z"
    }
   },
   "outputs": [
    {
     "data": {
      "image/png": "[encoded data removed]",
      "text/plain": [
       "<Figure size 1080x360 with 3 Axes>"
      ]
     },
     "metadata": {
      "needs_background": "light"
     },
     "output_type": "display_data"
    }
   ],
   "source": [
    "# Plot infos about the Outlets\n",
    "fig = plt.figure(figsize=(15, 5))\n",
    "fig.add_subplot(1, 3, 1)\n",
    "sns.countplot(x=df['Outlet_Type']);\n",
    "plt.xticks(rotation=90);\n",
    "fig.add_subplot(1, 3, 2)\n",
    "sns.countplot(x=df['Outlet_Size'])\n",
    "fig.add_subplot(1, 3, 3)\n",
    "sns.countplot(x=df['Outlet_Establishment_Year']);\n",
    "plt.tight_layout()"
   ]
  },
  {
   "cell_type": "code",
   "execution_count": 66,
   "metadata": {
    "execution": {
     "iopub.execute_input": "2022-12-15T23:07:05.402637Z",
     "iopub.status.busy": "2022-12-15T23:07:05.401958Z",
     "iopub.status.idle": "2022-12-15T23:07:05.650120Z",
     "shell.execute_reply": "2022-12-15T23:07:05.648736Z",
     "shell.execute_reply.started": "2022-12-15T23:07:05.402600Z"
    }
   },
   "outputs": [
    {
     "data": {
      "image/png": "[encoded data removed]",
      "text/plain": [
       "<Figure size 432x288 with 1 Axes>"
      ]
     },
     "metadata": {
      "needs_background": "light"
     },
     "output_type": "display_data"
    }
   ],
   "source": [
    "# Feature Engineering: getting the amount of established years in new column and delete old column\n",
    "df['Outlet_Age']=2022-df['Outlet_Establishment_Year']\n",
    "del df['Outlet_Establishment_Year']\n",
    "sns.countplot(x=df['Outlet_Age']);"
   ]
  },
  {
   "cell_type": "code",
   "execution_count": 67,
   "metadata": {
    "execution": {
     "iopub.execute_input": "2022-12-15T23:07:12.538213Z",
     "iopub.status.busy": "2022-12-15T23:07:12.537795Z",
     "iopub.status.idle": "2022-12-15T23:07:12.551751Z",
     "shell.execute_reply": "2022-12-15T23:07:12.550746Z",
     "shell.execute_reply.started": "2022-12-15T23:07:12.538180Z"
    }
   },
   "outputs": [
    {
     "data": {
      "text/plain": [
       "Item_Outlet_Sales       1.000000\n",
       "Item_MRP                0.567574\n",
       "Outlet_Location_Type    0.089367\n",
       "Outlet_Size             0.086182\n",
       "Outlet_Age              0.049135\n",
       "Item_Weight             0.011550\n",
       "Item_Visibility         0.128625\n",
       "Name: Item_Outlet_Sales, dtype: float64"
      ]
     },
     "execution_count": 67,
     "metadata": {},
     "output_type": "execute_result"
    }
   ],
   "source": [
    "# see how the other columns are correlated with Item_Outlet_Sales\n",
    "abs(df.corr()[\"Item_Outlet_Sales\"].sort_values(ascending=False))"
   ]
  },
  {
   "cell_type": "code",
   "execution_count": 68,
   "metadata": {
    "execution": {
     "iopub.execute_input": "2022-12-15T23:07:14.426784Z",
     "iopub.status.busy": "2022-12-15T23:07:14.426354Z",
     "iopub.status.idle": "2022-12-15T23:07:14.435539Z",
     "shell.execute_reply": "2022-12-15T23:07:14.434109Z",
     "shell.execute_reply.started": "2022-12-15T23:07:14.426752Z"
    }
   },
   "outputs": [],
   "source": [
    "# Feature Engineering: trying to get a better score but doesn't affect the end results\n",
    "df[\"Item_MRP\"]=df[\"Item_MRP\"]**2\n",
    "df[\"Item_Visibility\"]=df[\"Item_Visibility\"]**2"
   ]
  },
  {
   "cell_type": "code",
   "execution_count": 69,
   "metadata": {
    "execution": {
     "iopub.execute_input": "2022-12-15T23:07:16.515383Z",
     "iopub.status.busy": "2022-12-15T23:07:16.514928Z",
     "iopub.status.idle": "2022-12-15T23:07:17.444478Z",
     "shell.execute_reply": "2022-12-15T23:07:17.443480Z",
     "shell.execute_reply.started": "2022-12-15T23:07:16.515342Z"
    }
   },
   "outputs": [
    {
     "data": {
      "image/png": "[encoded data removed]",
      "text/plain": [
       "<Figure size 1152x576 with 4 Axes>"
      ]
     },
     "metadata": {
      "needs_background": "light"
     },
     "output_type": "display_data"
    }
   ],
   "source": [
    "# seeing the corr of columns to the Item_Outlet_Sales\n",
    "fig = plt.figure(figsize=(16,8))\n",
    "fig.add_subplot(2,2,1)\n",
    "sns.scatterplot(df['Item_MRP'], df['Item_Outlet_Sales'])\n",
    "fig.add_subplot(2,2,2)\n",
    "sns.scatterplot(df['Item_Weight'],df['Item_Outlet_Sales'])\n",
    "fig.add_subplot(2,2,3)\n",
    "sns.scatterplot(df['Outlet_Age'],df['Item_Outlet_Sales'])\n",
    "fig.add_subplot(2,2,4)\n",
    "sns.scatterplot(df['Outlet_Size'],df['Item_Outlet_Sales']);"
   ]
  },
  {
   "cell_type": "markdown",
   "metadata": {},
   "source": [
    "## Modeling"
   ]
  },
  {
   "cell_type": "code",
   "execution_count": 49,
   "metadata": {
    "execution": {
     "iopub.execute_input": "2022-12-15T23:00:17.315252Z",
     "iopub.status.busy": "2022-12-15T23:00:17.314829Z",
     "iopub.status.idle": "2022-12-15T23:00:17.328774Z",
     "shell.execute_reply": "2022-12-15T23:00:17.327315Z",
     "shell.execute_reply.started": "2022-12-15T23:00:17.315217Z"
    }
   },
   "outputs": [],
   "source": [
    "# Function to call all Regression Algorithms\n",
    "def regression_funct(x,y):\n",
    "    #importing Regression libraries\n",
    "    from sklearn.linear_model import LinearRegression\n",
    "    from sklearn.linear_model import Ridge,Lasso\n",
    "    from sklearn.linear_model import ElasticNet\n",
    "    from sklearn.tree import ExtraTreeRegressor\n",
    "    from sklearn.ensemble import GradientBoostingRegressor\n",
    "    from sklearn.neighbors import KNeighborsRegressor\n",
    "    from xgboost import XGBRegressor\n",
    "    \n",
    "    from sklearn.model_selection import train_test_split\n",
    "    from sklearn.metrics import mean_squared_error,r2_score,mean_absolute_error\n",
    "    \n",
    "    # split the data in Train and Test \n",
    "    x_train,x_test,y_train,y_test=train_test_split(x,y,test_size=0.2,random_state=42)\n",
    "\n",
    "    L=LinearRegression()\n",
    "    R=Ridge()\n",
    "    Lass=Lasso()\n",
    "    E=ElasticNet()\n",
    "    ExTree=ExtraTreeRegressor()\n",
    "    GBR=GradientBoostingRegressor()\n",
    "    KN=KNeighborsRegressor()\n",
    "    XGBC= XGBRegressor()\n",
    "    \n",
    "    algos=[L,R,Lass,E,ExTree,GBR,KN,XGBC]\n",
    "    algo_names=['LinearRegression','Ridge','Lasso','ElasticNet','ExtraTreeRegressor','GradientBoostingRegressor','KNeighborsRegressor','XGBRegressor']\n",
    "    r_squared=[]\n",
    "    rmse=[]\n",
    "    mae=[]\n",
    "    \n",
    "    result=pd.DataFrame(columns=['R_Squared','RMSE','MAE'],index=algo_names) # create df with results\n",
    "    \n",
    "    for item in algos: # fit and predict model with all algos and append the results in their lists\n",
    "        item.fit(x_train,y_train)\n",
    "        item.predict(x_test)\n",
    "        r_squared.append(r2_score(y_test,item.predict(x_test)))\n",
    "        rmse.append((mean_squared_error(y_test,item.predict(x_test)))**.5)\n",
    "        mae.append(mean_absolute_error(y_test,item.predict(x_test)))\n",
    "        \n",
    "    result.R_Squared=r_squared\n",
    "    result.RMSE=rmse\n",
    "    result.MAE=mae\n",
    "        \n",
    "    return result.sort_values('R_Squared',ascending=False)"
   ]
  },
  {
   "cell_type": "code",
   "execution_count": 70,
   "metadata": {
    "execution": {
     "iopub.execute_input": "2022-12-15T23:07:23.024938Z",
     "iopub.status.busy": "2022-12-15T23:07:23.023801Z",
     "iopub.status.idle": "2022-12-15T23:07:23.046153Z",
     "shell.execute_reply": "2022-12-15T23:07:23.045244Z",
     "shell.execute_reply.started": "2022-12-15T23:07:23.024882Z"
    }
   },
   "outputs": [],
   "source": [
    "# Assign x and y and get dummies because of object type entries\n",
    "x,y=df.drop(\"Item_Outlet_Sales\",axis=1),df[[\"Item_Outlet_Sales\"]] \n",
    "x=pd.get_dummies(x,drop_first=True) # creates a sparse matrix - object to integer"
   ]
  },
  {
   "cell_type": "code",
   "execution_count": 71,
   "metadata": {
    "execution": {
     "iopub.execute_input": "2022-12-15T23:07:23.303021Z",
     "iopub.status.busy": "2022-12-15T23:07:23.301979Z",
     "iopub.status.idle": "2022-12-15T23:07:26.764681Z",
     "shell.execute_reply": "2022-12-15T23:07:26.763649Z",
     "shell.execute_reply.started": "2022-12-15T23:07:23.302959Z"
    }
   },
   "outputs": [
    {
     "data": {
      "text/html": [
       "<div>\n",
       "<style scoped>\n",
       "    .dataframe tbody tr th:only-of-type {\n",
       "        vertical-align: middle;\n",
       "    }\n",
       "\n",
       "    .dataframe tbody tr th {\n",
       "        vertical-align: top;\n",
       "    }\n",
       "\n",
       "    .dataframe thead th {\n",
       "        text-align: right;\n",
       "    }\n",
       "</style>\n",
       "<table border=\"1\" class=\"dataframe\">\n",
       "  <thead>\n",
       "    <tr style=\"text-align: right;\">\n",
       "      <th></th>\n",
       "      <th>R_Squared</th>\n",
       "      <th>RMSE</th>\n",
       "      <th>MAE</th>\n",
       "    </tr>\n",
       "  </thead>\n",
       "  <tbody>\n",
       "    <tr>\n",
       "      <th>GradientBoostingRegressor</th>\n",
       "      <td>0.603431</td>\n",
       "      <td>1038.201285</td>\n",
       "      <td>738.181566</td>\n",
       "    </tr>\n",
       "    <tr>\n",
       "      <th>Lasso</th>\n",
       "      <td>0.565276</td>\n",
       "      <td>1086.998946</td>\n",
       "      <td>816.552739</td>\n",
       "    </tr>\n",
       "    <tr>\n",
       "      <th>Ridge</th>\n",
       "      <td>0.564579</td>\n",
       "      <td>1087.869801</td>\n",
       "      <td>817.741622</td>\n",
       "    </tr>\n",
       "    <tr>\n",
       "      <th>LinearRegression</th>\n",
       "      <td>0.564479</td>\n",
       "      <td>1087.994363</td>\n",
       "      <td>818.185832</td>\n",
       "    </tr>\n",
       "    <tr>\n",
       "      <th>XGBRegressor</th>\n",
       "      <td>0.535349</td>\n",
       "      <td>1123.791448</td>\n",
       "      <td>779.182542</td>\n",
       "    </tr>\n",
       "    <tr>\n",
       "      <th>ElasticNet</th>\n",
       "      <td>0.360662</td>\n",
       "      <td>1318.219120</td>\n",
       "      <td>988.247781</td>\n",
       "    </tr>\n",
       "    <tr>\n",
       "      <th>KNeighborsRegressor</th>\n",
       "      <td>0.208630</td>\n",
       "      <td>1466.601659</td>\n",
       "      <td>1085.949244</td>\n",
       "    </tr>\n",
       "    <tr>\n",
       "      <th>ExtraTreeRegressor</th>\n",
       "      <td>0.165644</td>\n",
       "      <td>1505.906759</td>\n",
       "      <td>1043.625685</td>\n",
       "    </tr>\n",
       "  </tbody>\n",
       "</table>\n",
       "</div>"
      ],
      "text/plain": [
       "                           R_Squared         RMSE          MAE\n",
       "GradientBoostingRegressor   0.603431  1038.201285   738.181566\n",
       "Lasso                       0.565276  1086.998946   816.552739\n",
       "Ridge                       0.564579  1087.869801   817.741622\n",
       "LinearRegression            0.564479  1087.994363   818.185832\n",
       "XGBRegressor                0.535349  1123.791448   779.182542\n",
       "ElasticNet                  0.360662  1318.219120   988.247781\n",
       "KNeighborsRegressor         0.208630  1466.601659  1085.949244\n",
       "ExtraTreeRegressor          0.165644  1505.906759  1043.625685"
      ]
     },
     "execution_count": 71,
     "metadata": {},
     "output_type": "execute_result"
    }
   ],
   "source": [
    "regression_funct(x,y) # call regression function and see results in a Dataframe"
   ]
  },
  {
   "cell_type": "markdown",
   "metadata": {},
   "source": [
    "The best result shows the **GradientBoostingRegressor with only 60% accuracy** and **RMSE of 1038.2, MAE of 738.18** followd by LinearRegression and RidgeRegression with 56%."
   ]
  },
  {
   "cell_type": "markdown",
   "metadata": {},
   "source": [
    "## Using Deep Learning"
   ]
  },
  {
   "cell_type": "code",
   "execution_count": 26,
   "metadata": {
    "execution": {
     "iopub.execute_input": "2022-12-15T22:48:19.638020Z",
     "iopub.status.busy": "2022-12-15T22:48:19.637568Z",
     "iopub.status.idle": "2022-12-15T22:48:26.817449Z",
     "shell.execute_reply": "2022-12-15T22:48:26.816284Z",
     "shell.execute_reply.started": "2022-12-15T22:48:19.637983Z"
    }
   },
   "outputs": [],
   "source": [
    "# import Deep Learning libraries\n",
    "from tensorflow.keras.models import Sequential\n",
    "from tensorflow.keras.layers import Dense, Activation\n",
    "from tensorflow.keras.optimizers import Adam\n",
    "from sklearn.preprocessing import MinMaxScaler\n",
    "from sklearn.model_selection import train_test_split\n",
    "from sklearn.metrics import  r2_score, mean_squared_error, mean_absolute_error\n",
    "scaler=MinMaxScaler()"
   ]
  },
  {
   "cell_type": "code",
   "execution_count": 27,
   "metadata": {
    "execution": {
     "iopub.execute_input": "2022-12-15T22:48:41.096504Z",
     "iopub.status.busy": "2022-12-15T22:48:41.095448Z",
     "iopub.status.idle": "2022-12-15T22:48:41.133036Z",
     "shell.execute_reply": "2022-12-15T22:48:41.131911Z",
     "shell.execute_reply.started": "2022-12-15T22:48:41.096434Z"
    }
   },
   "outputs": [],
   "source": [
    "# Assign x and y and get dummies because of object type entries\n",
    "x,y=df.drop(\"Item_Outlet_Sales\",axis=1),df[[\"Item_Outlet_Sales\"]] \n",
    "x=pd.get_dummies(x,drop_first=True) # creates a sparse matrix - object to integer\n",
    "x=scaler.fit_transform(x) # scale x values"
   ]
  },
  {
   "cell_type": "code",
   "execution_count": 28,
   "metadata": {
    "execution": {
     "iopub.execute_input": "2022-12-15T22:48:49.822198Z",
     "iopub.status.busy": "2022-12-15T22:48:49.821716Z",
     "iopub.status.idle": "2022-12-15T22:48:49.833334Z",
     "shell.execute_reply": "2022-12-15T22:48:49.831624Z",
     "shell.execute_reply.started": "2022-12-15T22:48:49.822162Z"
    }
   },
   "outputs": [],
   "source": [
    "# split data in test and train\n",
    "x_train, x_test, y_train, y_test = train_test_split(x,y, test_size=0.20, random_state=42)"
   ]
  },
  {
   "cell_type": "code",
   "execution_count": 29,
   "metadata": {
    "execution": {
     "iopub.execute_input": "2022-12-15T22:49:01.621399Z",
     "iopub.status.busy": "2022-12-15T22:49:01.620994Z",
     "iopub.status.idle": "2022-12-15T22:49:01.736802Z",
     "shell.execute_reply": "2022-12-15T22:49:01.734991Z",
     "shell.execute_reply.started": "2022-12-15T22:49:01.621366Z"
    }
   },
   "outputs": [
    {
     "name": "stderr",
     "output_type": "stream",
     "text": [
      "2022-12-15 22:49:01.670200: I tensorflow/core/common_runtime/process_util.cc:146] Creating new thread pool with default inter op setting: 2. Tune using inter_op_parallelism_threads for best performance.\n"
     ]
    }
   ],
   "source": [
    "# Build the Model\n",
    "model=Sequential()\n",
    "model.add(Dense(200, activation='relu'))\n",
    "model.add(Dense(200, activation='relu'))\n",
    "model.add(Dense(200, activation='relu'))\n",
    "model.add(Dense(200, activation='relu'))\n",
    "model.add(Dense(200, activation='relu'))\n",
    "model.add(Dense(200, activation='relu'))\n",
    "model.add(Dense(200, activation='relu'))\n",
    "model.add(Dense(200, activation='relu'))\n",
    "model.add(Dense(200, activation='relu'))\n",
    "model.add(Dense(1))\n",
    "model.compile(optimizer='Adam', loss='mse')#mse regression"
   ]
  },
  {
   "cell_type": "code",
   "execution_count": 30,
   "metadata": {
    "execution": {
     "iopub.execute_input": "2022-12-15T22:49:10.347126Z",
     "iopub.status.busy": "2022-12-15T22:49:10.345840Z",
     "iopub.status.idle": "2022-12-15T22:54:20.221978Z",
     "shell.execute_reply": "2022-12-15T22:54:20.220597Z",
     "shell.execute_reply.started": "2022-12-15T22:49:10.347056Z"
    },
    "scrolled": true
   },
   "outputs": [
    {
     "name": "stderr",
     "output_type": "stream",
     "text": [
      "2022-12-15 22:49:10.467429: I tensorflow/compiler/mlir/mlir_graph_optimization_pass.cc:185] None of the MLIR Optimization Passes are enabled (registered 2)\n"
     ]
    },
    {
     "name": "stdout",
     "output_type": "stream",
     "text": [
      "Epoch 1/500\n",
      "54/54 [==============================] - 2s 17ms/step - loss: 4579253.0000 - val_loss: 2104790.2500\n",
      "Epoch 2/500\n",
      "54/54 [==============================] - 1s 13ms/step - loss: 1952312.0000 - val_loss: 1327347.5000\n",
      "Epoch 3/500\n",
      "54/54 [==============================] - 1s 11ms/step - loss: 1409729.8750 - val_loss: 1157399.7500\n",
      "Epoch 4/500\n",
      "54/54 [==============================] - 1s 12ms/step - loss: 1327478.6250 - val_loss: 1218923.2500\n",
      "Epoch 5/500\n",
      "54/54 [==============================] - 1s 25ms/step - loss: 1317467.5000 - val_loss: 1241280.8750\n",
      "Epoch 6/500\n",
      "54/54 [==============================] - 1s 12ms/step - loss: 1304655.7500 - val_loss: 1126168.0000\n",
      "Epoch 7/500\n",
      "54/54 [==============================] - 1s 12ms/step - loss: 1299154.1250 - val_loss: 1122924.2500\n",
      "Epoch 8/500\n",
      "54/54 [==============================] - 1s 13ms/step - loss: 1247582.0000 - val_loss: 1095765.0000\n",
      "Epoch 9/500\n",
      "54/54 [==============================] - 1s 14ms/step - loss: 1210366.6250 - val_loss: 1075595.0000\n",
      "Epoch 10/500\n",
      "54/54 [==============================] - 1s 13ms/step - loss: 1191409.5000 - val_loss: 1071732.0000\n",
      "Epoch 11/500\n",
      "54/54 [==============================] - 1s 12ms/step - loss: 1214372.3750 - val_loss: 1174999.5000\n",
      "Epoch 12/500\n",
      "54/54 [==============================] - 1s 12ms/step - loss: 1227270.5000 - val_loss: 1097255.3750\n",
      "Epoch 13/500\n",
      "54/54 [==============================] - 1s 12ms/step - loss: 1196319.3750 - val_loss: 1076920.2500\n",
      "Epoch 14/500\n",
      "54/54 [==============================] - 1s 11ms/step - loss: 1188552.3750 - val_loss: 1132915.1250\n",
      "Epoch 15/500\n",
      "54/54 [==============================] - 1s 12ms/step - loss: 1183118.7500 - val_loss: 1103799.6250\n",
      "Epoch 16/500\n",
      "54/54 [==============================] - 1s 11ms/step - loss: 1166015.6250 - val_loss: 1091444.6250\n",
      "Epoch 17/500\n",
      "54/54 [==============================] - 1s 11ms/step - loss: 1165369.5000 - val_loss: 1061372.3750\n",
      "Epoch 18/500\n",
      "54/54 [==============================] - 1s 11ms/step - loss: 1192978.3750 - val_loss: 1193550.2500\n",
      "Epoch 19/500\n",
      "54/54 [==============================] - 1s 13ms/step - loss: 1198761.8750 - val_loss: 1060724.8750\n",
      "Epoch 20/500\n",
      "54/54 [==============================] - 1s 11ms/step - loss: 1183896.1250 - val_loss: 1054445.1250\n",
      "Epoch 21/500\n",
      "54/54 [==============================] - 1s 11ms/step - loss: 1174414.2500 - val_loss: 1070590.6250\n",
      "Epoch 22/500\n",
      "54/54 [==============================] - 1s 11ms/step - loss: 1169823.7500 - val_loss: 1098993.7500\n",
      "Epoch 23/500\n",
      "54/54 [==============================] - 1s 11ms/step - loss: 1142550.3750 - val_loss: 1209399.7500\n",
      "Epoch 24/500\n",
      "54/54 [==============================] - 1s 11ms/step - loss: 1146117.3750 - val_loss: 1109557.5000\n",
      "Epoch 25/500\n",
      "54/54 [==============================] - 1s 11ms/step - loss: 1179825.2500 - val_loss: 1071031.5000\n",
      "Epoch 26/500\n",
      "54/54 [==============================] - 1s 11ms/step - loss: 1146947.6250 - val_loss: 1115274.5000\n",
      "Epoch 27/500\n",
      "54/54 [==============================] - 1s 12ms/step - loss: 1137424.8750 - val_loss: 1066561.1250\n",
      "Epoch 28/500\n",
      "54/54 [==============================] - 1s 12ms/step - loss: 1174628.7500 - val_loss: 1210267.1250\n",
      "Epoch 29/500\n",
      "54/54 [==============================] - 1s 11ms/step - loss: 1143920.6250 - val_loss: 1102178.2500\n",
      "Epoch 30/500\n",
      "54/54 [==============================] - 1s 11ms/step - loss: 1147179.5000 - val_loss: 1076488.6250\n",
      "Epoch 31/500\n",
      "54/54 [==============================] - 1s 11ms/step - loss: 1153841.7500 - val_loss: 1110329.6250\n",
      "Epoch 32/500\n",
      "54/54 [==============================] - 1s 11ms/step - loss: 1127140.3750 - val_loss: 1080565.2500\n",
      "Epoch 33/500\n",
      "54/54 [==============================] - 1s 11ms/step - loss: 1135942.2500 - val_loss: 1084700.7500\n",
      "Epoch 34/500\n",
      "54/54 [==============================] - 1s 12ms/step - loss: 1186911.7500 - val_loss: 1266335.7500\n",
      "Epoch 35/500\n",
      "54/54 [==============================] - 1s 14ms/step - loss: 1159801.8750 - val_loss: 1224653.3750\n",
      "Epoch 36/500\n",
      "54/54 [==============================] - 1s 12ms/step - loss: 1137584.7500 - val_loss: 1133848.5000\n",
      "Epoch 37/500\n",
      "54/54 [==============================] - 1s 11ms/step - loss: 1128400.0000 - val_loss: 1108329.8750\n",
      "Epoch 38/500\n",
      "54/54 [==============================] - 1s 11ms/step - loss: 1130509.1250 - val_loss: 1112467.0000\n",
      "Epoch 39/500\n",
      "54/54 [==============================] - 1s 12ms/step - loss: 1141138.8750 - val_loss: 1119908.7500\n",
      "Epoch 40/500\n",
      "54/54 [==============================] - 1s 12ms/step - loss: 1125130.6250 - val_loss: 1089711.0000\n",
      "Epoch 41/500\n",
      "54/54 [==============================] - 1s 12ms/step - loss: 1129249.5000 - val_loss: 1146346.2500\n",
      "Epoch 42/500\n",
      "54/54 [==============================] - 1s 11ms/step - loss: 1122549.8750 - val_loss: 1132923.7500\n",
      "Epoch 43/500\n",
      "54/54 [==============================] - 1s 11ms/step - loss: 1105430.3750 - val_loss: 1111405.2500\n",
      "Epoch 44/500\n",
      "54/54 [==============================] - 1s 14ms/step - loss: 1100600.6250 - val_loss: 1108926.6250\n",
      "Epoch 45/500\n",
      "54/54 [==============================] - 1s 11ms/step - loss: 1160132.5000 - val_loss: 1106863.1250\n",
      "Epoch 46/500\n",
      "54/54 [==============================] - 1s 10ms/step - loss: 1110475.8750 - val_loss: 1106688.8750\n",
      "Epoch 47/500\n",
      "54/54 [==============================] - 1s 11ms/step - loss: 1098861.2500 - val_loss: 1143958.0000\n",
      "Epoch 48/500\n",
      "54/54 [==============================] - 1s 11ms/step - loss: 1113125.3750 - val_loss: 1111881.7500\n",
      "Epoch 49/500\n",
      "54/54 [==============================] - 1s 11ms/step - loss: 1133280.8750 - val_loss: 1156664.6250\n",
      "Epoch 50/500\n",
      "54/54 [==============================] - 1s 12ms/step - loss: 1109271.2500 - val_loss: 1137660.8750\n",
      "Epoch 51/500\n",
      "54/54 [==============================] - 1s 12ms/step - loss: 1096856.6250 - val_loss: 1209234.1250\n",
      "Epoch 52/500\n",
      "54/54 [==============================] - 1s 12ms/step - loss: 1165745.6250 - val_loss: 1360280.5000\n",
      "Epoch 53/500\n",
      "54/54 [==============================] - 1s 19ms/step - loss: 1113766.2500 - val_loss: 1283580.0000\n",
      "Epoch 54/500\n",
      "54/54 [==============================] - 1s 17ms/step - loss: 1151424.1250 - val_loss: 1113272.5000\n",
      "Epoch 55/500\n",
      "54/54 [==============================] - 1s 11ms/step - loss: 1088195.7500 - val_loss: 1211924.0000\n",
      "Epoch 56/500\n",
      "54/54 [==============================] - 1s 10ms/step - loss: 1098522.2500 - val_loss: 1172976.5000\n",
      "Epoch 57/500\n",
      "54/54 [==============================] - 1s 11ms/step - loss: 1116346.2500 - val_loss: 1135593.8750\n",
      "Epoch 58/500\n",
      "54/54 [==============================] - 1s 11ms/step - loss: 1077870.5000 - val_loss: 1339495.6250\n",
      "Epoch 59/500\n",
      "54/54 [==============================] - 1s 12ms/step - loss: 1086879.0000 - val_loss: 1150157.8750\n",
      "Epoch 60/500\n",
      "54/54 [==============================] - 1s 11ms/step - loss: 1071808.6250 - val_loss: 1205726.1250\n",
      "Epoch 61/500\n",
      "54/54 [==============================] - 1s 13ms/step - loss: 1072155.3750 - val_loss: 1224412.3750\n",
      "Epoch 62/500\n",
      "54/54 [==============================] - 1s 11ms/step - loss: 1059677.3750 - val_loss: 1226041.8750\n",
      "Epoch 63/500\n",
      "54/54 [==============================] - 1s 12ms/step - loss: 1078003.2500 - val_loss: 1142692.1250\n",
      "Epoch 64/500\n",
      "54/54 [==============================] - 1s 11ms/step - loss: 1077113.1250 - val_loss: 1168858.8750\n",
      "Epoch 65/500\n",
      "54/54 [==============================] - 1s 12ms/step - loss: 1064974.0000 - val_loss: 1141606.5000\n",
      "Epoch 66/500\n",
      "54/54 [==============================] - 1s 11ms/step - loss: 1056656.8750 - val_loss: 1169952.5000\n",
      "Epoch 67/500\n",
      "54/54 [==============================] - 1s 11ms/step - loss: 1082680.0000 - val_loss: 1623280.8750\n",
      "Epoch 68/500\n",
      "54/54 [==============================] - 1s 11ms/step - loss: 1108587.5000 - val_loss: 1231676.7500\n",
      "Epoch 69/500\n",
      "54/54 [==============================] - 1s 11ms/step - loss: 1057072.0000 - val_loss: 1448766.7500\n",
      "Epoch 70/500\n",
      "54/54 [==============================] - 1s 11ms/step - loss: 1063524.8750 - val_loss: 1186909.5000\n",
      "Epoch 71/500\n",
      "54/54 [==============================] - 1s 10ms/step - loss: 1051990.0000 - val_loss: 1172502.8750\n",
      "Epoch 72/500\n",
      "54/54 [==============================] - 1s 12ms/step - loss: 1046043.1250 - val_loss: 1237635.5000\n",
      "Epoch 73/500\n",
      "54/54 [==============================] - 1s 11ms/step - loss: 1050949.8750 - val_loss: 1169478.0000\n",
      "Epoch 74/500\n",
      "54/54 [==============================] - 1s 11ms/step - loss: 1055111.1250 - val_loss: 1183582.6250\n",
      "Epoch 75/500\n",
      "54/54 [==============================] - 1s 13ms/step - loss: 1031145.3125 - val_loss: 1177617.5000\n",
      "Epoch 76/500\n",
      "54/54 [==============================] - 1s 12ms/step - loss: 1064253.5000 - val_loss: 1195361.6250\n",
      "Epoch 77/500\n",
      "54/54 [==============================] - 1s 11ms/step - loss: 1040376.6250 - val_loss: 1237621.0000\n",
      "Epoch 78/500\n",
      "54/54 [==============================] - 1s 11ms/step - loss: 1025262.1250 - val_loss: 1182946.7500\n",
      "Epoch 79/500\n",
      "54/54 [==============================] - 1s 13ms/step - loss: 1033892.7500 - val_loss: 1196356.7500\n",
      "Epoch 80/500\n",
      "54/54 [==============================] - 1s 11ms/step - loss: 1028354.6875 - val_loss: 1208326.8750\n",
      "Epoch 81/500\n",
      "54/54 [==============================] - 1s 12ms/step - loss: 1017028.4375 - val_loss: 1268189.5000\n",
      "Epoch 82/500\n",
      "54/54 [==============================] - 1s 13ms/step - loss: 1061277.5000 - val_loss: 1180767.3750\n",
      "Epoch 83/500\n",
      "54/54 [==============================] - 1s 12ms/step - loss: 1015999.8750 - val_loss: 1219484.6250\n",
      "Epoch 84/500\n",
      "54/54 [==============================] - 1s 11ms/step - loss: 1007252.1875 - val_loss: 1258713.2500\n",
      "Epoch 85/500\n",
      "54/54 [==============================] - 1s 11ms/step - loss: 1011055.9375 - val_loss: 1245623.1250\n",
      "Epoch 86/500\n",
      "54/54 [==============================] - 1s 10ms/step - loss: 1004270.3750 - val_loss: 1223233.7500\n",
      "Epoch 87/500\n",
      "54/54 [==============================] - 1s 11ms/step - loss: 1033208.0625 - val_loss: 1343194.3750\n",
      "Epoch 88/500\n",
      "54/54 [==============================] - 1s 11ms/step - loss: 1044340.3750 - val_loss: 1206804.7500\n",
      "Epoch 89/500\n",
      "54/54 [==============================] - 1s 11ms/step - loss: 982249.8750 - val_loss: 1247153.6250\n",
      "Epoch 90/500\n",
      "54/54 [==============================] - 1s 11ms/step - loss: 984099.6875 - val_loss: 1322822.8750\n",
      "Epoch 91/500\n",
      "54/54 [==============================] - 1s 11ms/step - loss: 978518.0625 - val_loss: 1248997.2500\n",
      "Epoch 92/500\n",
      "54/54 [==============================] - 1s 11ms/step - loss: 997842.6250 - val_loss: 1552053.5000\n",
      "Epoch 93/500\n",
      "54/54 [==============================] - 1s 11ms/step - loss: 983550.6250 - val_loss: 1241810.6250\n",
      "Epoch 94/500\n",
      "54/54 [==============================] - 1s 10ms/step - loss: 957951.3125 - val_loss: 1253114.3750\n",
      "Epoch 95/500\n",
      "54/54 [==============================] - 1s 12ms/step - loss: 970937.6250 - val_loss: 1268966.3750\n",
      "Epoch 96/500\n",
      "54/54 [==============================] - 1s 13ms/step - loss: 987036.8750 - val_loss: 1253269.8750\n",
      "Epoch 97/500\n",
      "54/54 [==============================] - 1s 14ms/step - loss: 965970.6250 - val_loss: 1314392.3750\n",
      "Epoch 98/500\n",
      "54/54 [==============================] - 1s 12ms/step - loss: 959079.1250 - val_loss: 1308861.7500\n",
      "Epoch 99/500\n",
      "54/54 [==============================] - 1s 12ms/step - loss: 972394.8750 - val_loss: 1313835.8750\n",
      "Epoch 100/500\n",
      "54/54 [==============================] - 1s 11ms/step - loss: 949405.6875 - val_loss: 1263660.5000\n",
      "Epoch 101/500\n",
      "54/54 [==============================] - 1s 12ms/step - loss: 954949.3125 - val_loss: 1345822.7500\n",
      "Epoch 102/500\n",
      "54/54 [==============================] - 1s 12ms/step - loss: 976316.5625 - val_loss: 1266856.6250\n",
      "Epoch 103/500\n",
      "54/54 [==============================] - 1s 25ms/step - loss: 945202.4375 - val_loss: 1255243.3750\n",
      "Epoch 104/500\n",
      "54/54 [==============================] - 1s 13ms/step - loss: 962455.2500 - val_loss: 1281341.8750\n",
      "Epoch 105/500\n",
      "54/54 [==============================] - 1s 14ms/step - loss: 943648.8750 - val_loss: 1362278.8750\n",
      "Epoch 106/500\n",
      "54/54 [==============================] - 1s 16ms/step - loss: 928255.1250 - val_loss: 1348296.5000\n",
      "Epoch 107/500\n",
      "54/54 [==============================] - 1s 13ms/step - loss: 925283.8125 - val_loss: 1509529.8750\n",
      "Epoch 108/500\n",
      "54/54 [==============================] - 1s 14ms/step - loss: 926195.9375 - val_loss: 1318383.6250\n",
      "Epoch 109/500\n",
      "54/54 [==============================] - 1s 13ms/step - loss: 914325.8750 - val_loss: 1337790.2500\n",
      "Epoch 110/500\n",
      "54/54 [==============================] - 1s 12ms/step - loss: 939837.8750 - val_loss: 1345406.2500\n",
      "Epoch 111/500\n",
      "54/54 [==============================] - 1s 12ms/step - loss: 910220.6250 - val_loss: 1325282.3750\n",
      "Epoch 112/500\n",
      "54/54 [==============================] - 1s 15ms/step - loss: 899426.8750 - val_loss: 1312508.3750\n",
      "Epoch 113/500\n",
      "54/54 [==============================] - 1s 12ms/step - loss: 908739.2500 - val_loss: 1328368.5000\n",
      "Epoch 114/500\n",
      "54/54 [==============================] - 1s 12ms/step - loss: 894481.5000 - val_loss: 1433054.5000\n",
      "Epoch 115/500\n",
      "54/54 [==============================] - 1s 11ms/step - loss: 914785.1875 - val_loss: 1391617.2500\n",
      "Epoch 116/500\n",
      "54/54 [==============================] - 1s 12ms/step - loss: 892416.6250 - val_loss: 1492925.1250\n",
      "Epoch 117/500\n",
      "54/54 [==============================] - 1s 13ms/step - loss: 892662.4375 - val_loss: 1342178.6250\n",
      "Epoch 118/500\n",
      "54/54 [==============================] - 1s 12ms/step - loss: 913583.1250 - val_loss: 1335363.7500\n",
      "Epoch 119/500\n",
      "54/54 [==============================] - 1s 11ms/step - loss: 905252.4375 - val_loss: 1340920.6250\n",
      "Epoch 120/500\n",
      "54/54 [==============================] - 1s 12ms/step - loss: 905401.1250 - val_loss: 1362554.8750\n",
      "Epoch 121/500\n",
      "54/54 [==============================] - 1s 13ms/step - loss: 899668.8750 - val_loss: 1427793.5000\n",
      "Epoch 122/500\n",
      "54/54 [==============================] - 1s 13ms/step - loss: 883201.3750 - val_loss: 1385142.7500\n",
      "Epoch 123/500\n",
      "54/54 [==============================] - 1s 13ms/step - loss: 871539.3750 - val_loss: 1352103.2500\n",
      "Epoch 124/500\n",
      "54/54 [==============================] - 1s 12ms/step - loss: 905450.1250 - val_loss: 1370435.1250\n",
      "Epoch 125/500\n",
      "54/54 [==============================] - 1s 12ms/step - loss: 874664.3750 - val_loss: 1424723.8750\n",
      "Epoch 126/500\n",
      "54/54 [==============================] - 1s 13ms/step - loss: 858851.9375 - val_loss: 1385193.1250\n",
      "Epoch 127/500\n",
      "54/54 [==============================] - 1s 14ms/step - loss: 834689.5625 - val_loss: 1483598.8750\n",
      "Epoch 128/500\n",
      "54/54 [==============================] - 1s 13ms/step - loss: 855850.5625 - val_loss: 1432998.3750\n",
      "Epoch 129/500\n",
      "54/54 [==============================] - 1s 12ms/step - loss: 853092.3750 - val_loss: 1654031.5000\n",
      "Epoch 130/500\n",
      "54/54 [==============================] - 1s 11ms/step - loss: 820837.0000 - val_loss: 1487630.1250\n",
      "Epoch 131/500\n",
      "54/54 [==============================] - 1s 10ms/step - loss: 846493.1250 - val_loss: 1399688.1250\n",
      "Epoch 132/500\n",
      "54/54 [==============================] - 1s 12ms/step - loss: 847589.8750 - val_loss: 1638678.3750\n",
      "Epoch 133/500\n",
      "54/54 [==============================] - 1s 11ms/step - loss: 878472.6250 - val_loss: 1384977.8750\n",
      "Epoch 134/500\n",
      "54/54 [==============================] - 1s 11ms/step - loss: 882094.8125 - val_loss: 1541842.6250\n",
      "Epoch 135/500\n",
      "54/54 [==============================] - 1s 11ms/step - loss: 817456.3750 - val_loss: 1397197.0000\n",
      "Epoch 136/500\n",
      "54/54 [==============================] - 1s 13ms/step - loss: 824562.1875 - val_loss: 1368934.7500\n",
      "Epoch 137/500\n",
      "54/54 [==============================] - 1s 11ms/step - loss: 807483.6875 - val_loss: 1557608.3750\n",
      "Epoch 138/500\n",
      "54/54 [==============================] - 1s 10ms/step - loss: 813378.0000 - val_loss: 1498771.2500\n",
      "Epoch 139/500\n",
      "54/54 [==============================] - 1s 11ms/step - loss: 804306.2500 - val_loss: 1540447.2500\n",
      "Epoch 140/500\n",
      "54/54 [==============================] - 1s 11ms/step - loss: 792154.3125 - val_loss: 1472882.5000\n",
      "Epoch 141/500\n",
      "54/54 [==============================] - 1s 11ms/step - loss: 796167.1875 - val_loss: 1449182.6250\n",
      "Epoch 142/500\n",
      "54/54 [==============================] - 1s 11ms/step - loss: 805751.5625 - val_loss: 1629980.6250\n",
      "Epoch 143/500\n",
      "54/54 [==============================] - 1s 11ms/step - loss: 834281.8750 - val_loss: 1417513.0000\n",
      "Epoch 144/500\n",
      "54/54 [==============================] - 1s 11ms/step - loss: 809255.1875 - val_loss: 1652283.2500\n",
      "Epoch 145/500\n",
      "54/54 [==============================] - 1s 11ms/step - loss: 785735.1875 - val_loss: 1449052.2500\n",
      "Epoch 146/500\n",
      "54/54 [==============================] - 1s 13ms/step - loss: 785380.8125 - val_loss: 1570902.0000\n",
      "Epoch 147/500\n",
      "54/54 [==============================] - 1s 12ms/step - loss: 771826.8125 - val_loss: 1450073.0000\n",
      "Epoch 148/500\n",
      "54/54 [==============================] - 1s 11ms/step - loss: 771401.3125 - val_loss: 1642712.3750\n",
      "Epoch 149/500\n",
      "54/54 [==============================] - 1s 19ms/step - loss: 764555.3125 - val_loss: 1504697.6250\n",
      "Epoch 150/500\n",
      "54/54 [==============================] - 1s 18ms/step - loss: 771225.9375 - val_loss: 1458235.2500\n",
      "Epoch 151/500\n",
      "54/54 [==============================] - 1s 12ms/step - loss: 759566.3125 - val_loss: 1468109.7500\n",
      "Epoch 152/500\n",
      "54/54 [==============================] - 1s 11ms/step - loss: 739670.4375 - val_loss: 1613819.7500\n",
      "Epoch 153/500\n",
      "54/54 [==============================] - 1s 11ms/step - loss: 778730.8125 - val_loss: 1450639.3750\n",
      "Epoch 154/500\n",
      "54/54 [==============================] - 1s 11ms/step - loss: 718863.6875 - val_loss: 1590573.5000\n",
      "Epoch 155/500\n",
      "54/54 [==============================] - 1s 11ms/step - loss: 734544.0625 - val_loss: 1523708.0000\n",
      "Epoch 156/500\n",
      "54/54 [==============================] - 1s 11ms/step - loss: 739144.6250 - val_loss: 1945314.3750\n",
      "Epoch 157/500\n",
      "54/54 [==============================] - 1s 11ms/step - loss: 753731.1875 - val_loss: 1614658.3750\n",
      "Epoch 158/500\n",
      "54/54 [==============================] - 1s 12ms/step - loss: 721533.8125 - val_loss: 1541672.5000\n",
      "Epoch 159/500\n",
      "54/54 [==============================] - 1s 12ms/step - loss: 721338.5625 - val_loss: 1514669.1250\n",
      "Epoch 160/500\n",
      "54/54 [==============================] - 1s 12ms/step - loss: 710838.9375 - val_loss: 1949713.0000\n",
      "Epoch 161/500\n",
      "54/54 [==============================] - 1s 11ms/step - loss: 736348.3750 - val_loss: 1641717.0000\n",
      "Epoch 162/500\n",
      "54/54 [==============================] - 1s 13ms/step - loss: 712179.0000 - val_loss: 1490423.6250\n",
      "Epoch 163/500\n",
      "54/54 [==============================] - 1s 11ms/step - loss: 710256.4375 - val_loss: 1484363.3750\n",
      "Epoch 164/500\n",
      "54/54 [==============================] - 1s 11ms/step - loss: 695425.8125 - val_loss: 1736173.3750\n",
      "Epoch 165/500\n",
      "54/54 [==============================] - 1s 11ms/step - loss: 686321.6875 - val_loss: 1609056.8750\n",
      "Epoch 166/500\n",
      "54/54 [==============================] - 1s 11ms/step - loss: 692660.1250 - val_loss: 1552416.2500\n",
      "Epoch 167/500\n",
      "54/54 [==============================] - 1s 12ms/step - loss: 687033.0625 - val_loss: 1507498.3750\n",
      "Epoch 168/500\n",
      "54/54 [==============================] - 1s 11ms/step - loss: 679523.6250 - val_loss: 1613764.7500\n",
      "Epoch 169/500\n",
      "54/54 [==============================] - 1s 12ms/step - loss: 694486.8750 - val_loss: 1838701.6250\n",
      "Epoch 170/500\n",
      "54/54 [==============================] - 1s 12ms/step - loss: 696294.6250 - val_loss: 1494860.6250\n",
      "Epoch 171/500\n",
      "54/54 [==============================] - 1s 11ms/step - loss: 695672.3125 - val_loss: 1538697.1250\n",
      "Epoch 172/500\n",
      "54/54 [==============================] - 1s 11ms/step - loss: 668329.6250 - val_loss: 1536387.6250\n",
      "Epoch 173/500\n",
      "54/54 [==============================] - 1s 11ms/step - loss: 693150.8125 - val_loss: 1612744.6250\n",
      "Epoch 174/500\n",
      "54/54 [==============================] - 1s 11ms/step - loss: 679257.5000 - val_loss: 1709183.3750\n",
      "Epoch 175/500\n",
      "54/54 [==============================] - 1s 12ms/step - loss: 658713.7500 - val_loss: 1534379.8750\n",
      "Epoch 176/500\n",
      "54/54 [==============================] - 1s 12ms/step - loss: 649271.7500 - val_loss: 1607685.2500\n",
      "Epoch 177/500\n",
      "54/54 [==============================] - 1s 11ms/step - loss: 639290.6250 - val_loss: 1550618.1250\n",
      "Epoch 178/500\n",
      "54/54 [==============================] - 1s 11ms/step - loss: 675357.8125 - val_loss: 1777912.7500\n",
      "Epoch 179/500\n",
      "54/54 [==============================] - 1s 12ms/step - loss: 642939.6875 - val_loss: 1551726.3750\n",
      "Epoch 180/500\n",
      "54/54 [==============================] - 1s 12ms/step - loss: 633413.2500 - val_loss: 1613404.6250\n",
      "Epoch 181/500\n",
      "54/54 [==============================] - 1s 11ms/step - loss: 612070.4375 - val_loss: 1681599.0000\n",
      "Epoch 182/500\n",
      "54/54 [==============================] - 1s 11ms/step - loss: 623902.7500 - val_loss: 1736247.8750\n",
      "Epoch 183/500\n",
      "54/54 [==============================] - 1s 13ms/step - loss: 634884.0625 - val_loss: 1625956.8750\n",
      "Epoch 184/500\n",
      "54/54 [==============================] - 1s 10ms/step - loss: 696328.0625 - val_loss: 2174201.7500\n",
      "Epoch 185/500\n",
      "54/54 [==============================] - 1s 10ms/step - loss: 683754.4375 - val_loss: 1703934.2500\n",
      "Epoch 186/500\n",
      "54/54 [==============================] - 1s 10ms/step - loss: 624728.1250 - val_loss: 1565319.8750\n",
      "Epoch 187/500\n",
      "54/54 [==============================] - 1s 11ms/step - loss: 608522.0000 - val_loss: 1647014.8750\n",
      "Epoch 188/500\n",
      "54/54 [==============================] - 1s 11ms/step - loss: 578872.8750 - val_loss: 1619860.0000\n",
      "Epoch 189/500\n",
      "54/54 [==============================] - 1s 10ms/step - loss: 601588.6875 - val_loss: 1740302.3750\n",
      "Epoch 190/500\n",
      "54/54 [==============================] - 1s 11ms/step - loss: 598955.0000 - val_loss: 1623738.7500\n",
      "Epoch 191/500\n",
      "54/54 [==============================] - 1s 11ms/step - loss: 580156.5625 - val_loss: 1695307.3750\n",
      "Epoch 192/500\n",
      "54/54 [==============================] - 1s 10ms/step - loss: 572010.0625 - val_loss: 1692613.8750\n",
      "Epoch 193/500\n",
      "54/54 [==============================] - 1s 10ms/step - loss: 581100.4375 - val_loss: 1592714.2500\n",
      "Epoch 194/500\n",
      "54/54 [==============================] - 1s 10ms/step - loss: 618348.6250 - val_loss: 1861421.6250\n",
      "Epoch 195/500\n",
      "54/54 [==============================] - 1s 10ms/step - loss: 565188.5625 - val_loss: 1707337.6250\n",
      "Epoch 196/500\n",
      "54/54 [==============================] - 1s 10ms/step - loss: 570287.3125 - val_loss: 1588328.3750\n",
      "Epoch 197/500\n",
      "54/54 [==============================] - 1s 10ms/step - loss: 602847.1250 - val_loss: 1682186.5000\n",
      "Epoch 198/500\n",
      "54/54 [==============================] - 1s 10ms/step - loss: 556435.4375 - val_loss: 1662102.7500\n",
      "Epoch 199/500\n",
      "54/54 [==============================] - 1s 11ms/step - loss: 540820.2500 - val_loss: 1753237.1250\n",
      "Epoch 200/500\n",
      "54/54 [==============================] - 1s 26ms/step - loss: 536985.1250 - val_loss: 1713548.5000\n",
      "Epoch 201/500\n",
      "54/54 [==============================] - 1s 11ms/step - loss: 551977.1250 - val_loss: 1623880.8750\n",
      "Epoch 202/500\n",
      "54/54 [==============================] - 1s 11ms/step - loss: 553358.6875 - val_loss: 1667177.8750\n",
      "Epoch 203/500\n",
      "54/54 [==============================] - 1s 11ms/step - loss: 528653.5000 - val_loss: 1653155.2500\n",
      "Epoch 204/500\n",
      "54/54 [==============================] - 1s 10ms/step - loss: 511562.3438 - val_loss: 1715265.6250\n",
      "Epoch 205/500\n",
      "54/54 [==============================] - 1s 10ms/step - loss: 546185.9375 - val_loss: 1749791.6250\n",
      "Epoch 206/500\n",
      "54/54 [==============================] - 1s 11ms/step - loss: 523388.2812 - val_loss: 1876956.3750\n",
      "Epoch 207/500\n",
      "54/54 [==============================] - 1s 12ms/step - loss: 528775.8750 - val_loss: 1821764.8750\n",
      "Epoch 208/500\n",
      "54/54 [==============================] - 1s 11ms/step - loss: 561069.0000 - val_loss: 1765245.1250\n",
      "Epoch 209/500\n",
      "54/54 [==============================] - 1s 10ms/step - loss: 507206.6562 - val_loss: 1817547.7500\n",
      "Epoch 210/500\n",
      "54/54 [==============================] - 1s 10ms/step - loss: 530137.9375 - val_loss: 1743028.3750\n",
      "Epoch 211/500\n",
      "54/54 [==============================] - 1s 10ms/step - loss: 543075.3750 - val_loss: 1668184.2500\n",
      "Epoch 212/500\n",
      "54/54 [==============================] - 1s 10ms/step - loss: 495781.9375 - val_loss: 1797582.0000\n",
      "Epoch 213/500\n",
      "54/54 [==============================] - 1s 11ms/step - loss: 488421.6875 - val_loss: 1732584.2500\n",
      "Epoch 214/500\n",
      "54/54 [==============================] - 1s 11ms/step - loss: 512475.3125 - val_loss: 1758079.5000\n",
      "Epoch 215/500\n",
      "54/54 [==============================] - 1s 11ms/step - loss: 521395.8438 - val_loss: 1842493.0000\n",
      "Epoch 216/500\n",
      "54/54 [==============================] - 1s 11ms/step - loss: 497869.9375 - val_loss: 1666904.1250\n",
      "Epoch 217/500\n",
      "54/54 [==============================] - 1s 13ms/step - loss: 495006.3125 - val_loss: 1721577.1250\n",
      "Epoch 218/500\n",
      "54/54 [==============================] - 1s 11ms/step - loss: 472622.1562 - val_loss: 1721679.7500\n",
      "Epoch 219/500\n",
      "54/54 [==============================] - 1s 11ms/step - loss: 491417.8438 - val_loss: 1675220.5000\n",
      "Epoch 220/500\n",
      "54/54 [==============================] - 1s 11ms/step - loss: 471438.1562 - val_loss: 1699346.5000\n",
      "Epoch 221/500\n",
      "54/54 [==============================] - 1s 11ms/step - loss: 487920.0938 - val_loss: 1753231.7500\n",
      "Epoch 222/500\n",
      "54/54 [==============================] - 1s 11ms/step - loss: 493538.1562 - val_loss: 1754338.3750\n",
      "Epoch 223/500\n",
      "54/54 [==============================] - 1s 10ms/step - loss: 461714.7812 - val_loss: 1753905.8750\n",
      "Epoch 224/500\n",
      "54/54 [==============================] - 1s 12ms/step - loss: 446849.2812 - val_loss: 1777837.7500\n",
      "Epoch 225/500\n",
      "54/54 [==============================] - 1s 11ms/step - loss: 456913.7188 - val_loss: 1950044.0000\n",
      "Epoch 226/500\n",
      "54/54 [==============================] - 1s 11ms/step - loss: 496086.2188 - val_loss: 1853807.7500\n",
      "Epoch 227/500\n",
      "54/54 [==============================] - 1s 10ms/step - loss: 524811.4375 - val_loss: 1715375.8750\n",
      "Epoch 228/500\n",
      "54/54 [==============================] - 1s 10ms/step - loss: 457941.2812 - val_loss: 1697552.5000\n",
      "Epoch 229/500\n",
      "54/54 [==============================] - 1s 11ms/step - loss: 466385.0938 - val_loss: 1736505.0000\n",
      "Epoch 230/500\n",
      "54/54 [==============================] - 1s 11ms/step - loss: 430771.4375 - val_loss: 1742843.5000\n",
      "Epoch 231/500\n",
      "54/54 [==============================] - 1s 10ms/step - loss: 426891.0000 - val_loss: 1918276.5000\n",
      "Epoch 232/500\n",
      "54/54 [==============================] - 1s 10ms/step - loss: 458023.6875 - val_loss: 1829944.7500\n",
      "Epoch 233/500\n",
      "54/54 [==============================] - 1s 11ms/step - loss: 438659.1250 - val_loss: 1766442.2500\n",
      "Epoch 234/500\n",
      "54/54 [==============================] - 1s 11ms/step - loss: 432437.5000 - val_loss: 1851180.2500\n",
      "Epoch 235/500\n",
      "54/54 [==============================] - 1s 10ms/step - loss: 471291.0312 - val_loss: 1755503.7500\n",
      "Epoch 236/500\n",
      "54/54 [==============================] - 1s 12ms/step - loss: 409236.1250 - val_loss: 1823037.5000\n",
      "Epoch 237/500\n",
      "54/54 [==============================] - 1s 10ms/step - loss: 442328.3750 - val_loss: 1836260.2500\n",
      "Epoch 238/500\n",
      "54/54 [==============================] - 1s 11ms/step - loss: 425801.6562 - val_loss: 1866557.3750\n",
      "Epoch 239/500\n",
      "54/54 [==============================] - 1s 11ms/step - loss: 419543.3125 - val_loss: 1700170.5000\n",
      "Epoch 240/500\n",
      "54/54 [==============================] - 1s 10ms/step - loss: 409708.6562 - val_loss: 1894178.8750\n",
      "Epoch 241/500\n",
      "54/54 [==============================] - 1s 11ms/step - loss: 432375.0625 - val_loss: 1760260.6250\n",
      "Epoch 242/500\n",
      "54/54 [==============================] - 1s 12ms/step - loss: 440251.4375 - val_loss: 1711443.1250\n",
      "Epoch 243/500\n",
      "54/54 [==============================] - 1s 10ms/step - loss: 456268.6250 - val_loss: 1668766.2500\n",
      "Epoch 244/500\n",
      "54/54 [==============================] - 1s 10ms/step - loss: 457347.5000 - val_loss: 1803144.1250\n",
      "Epoch 245/500\n",
      "54/54 [==============================] - 1s 10ms/step - loss: 441518.2812 - val_loss: 1688865.6250\n",
      "Epoch 246/500\n",
      "54/54 [==============================] - 1s 10ms/step - loss: 393955.2500 - val_loss: 1887026.0000\n",
      "Epoch 247/500\n",
      "54/54 [==============================] - 1s 11ms/step - loss: 383367.5000 - val_loss: 2000290.1250\n",
      "Epoch 248/500\n",
      "54/54 [==============================] - 1s 10ms/step - loss: 396088.5938 - val_loss: 1781978.5000\n",
      "Epoch 249/500\n",
      "54/54 [==============================] - 1s 10ms/step - loss: 410156.0938 - val_loss: 1810820.0000\n",
      "Epoch 250/500\n",
      "54/54 [==============================] - 1s 10ms/step - loss: 403918.2500 - val_loss: 1774084.2500\n",
      "Epoch 251/500\n",
      "54/54 [==============================] - 1s 11ms/step - loss: 400481.2812 - val_loss: 1790450.0000\n",
      "Epoch 252/500\n",
      "54/54 [==============================] - 1s 13ms/step - loss: 381417.4688 - val_loss: 1780624.2500\n",
      "Epoch 253/500\n",
      "54/54 [==============================] - 1s 22ms/step - loss: 384906.4688 - val_loss: 1907395.7500\n",
      "Epoch 254/500\n",
      "54/54 [==============================] - 1s 13ms/step - loss: 400997.9062 - val_loss: 1694934.1250\n",
      "Epoch 255/500\n",
      "54/54 [==============================] - 1s 11ms/step - loss: 402368.2812 - val_loss: 1854069.0000\n",
      "Epoch 256/500\n",
      "54/54 [==============================] - 1s 11ms/step - loss: 393151.5312 - val_loss: 1922639.1250\n",
      "Epoch 257/500\n",
      "54/54 [==============================] - 1s 11ms/step - loss: 364734.7500 - val_loss: 1876816.0000\n",
      "Epoch 258/500\n",
      "54/54 [==============================] - 1s 11ms/step - loss: 354665.6250 - val_loss: 1766849.2500\n",
      "Epoch 259/500\n",
      "54/54 [==============================] - 1s 11ms/step - loss: 416929.6875 - val_loss: 1721314.3750\n",
      "Epoch 260/500\n",
      "54/54 [==============================] - 1s 11ms/step - loss: 385360.8438 - val_loss: 1846360.2500\n",
      "Epoch 261/500\n",
      "54/54 [==============================] - 1s 11ms/step - loss: 400486.1250 - val_loss: 1776327.3750\n",
      "Epoch 262/500\n",
      "54/54 [==============================] - 1s 11ms/step - loss: 374018.7500 - val_loss: 1818730.1250\n",
      "Epoch 263/500\n",
      "54/54 [==============================] - 1s 12ms/step - loss: 373527.8125 - val_loss: 1824959.7500\n",
      "Epoch 264/500\n",
      "54/54 [==============================] - 1s 11ms/step - loss: 369606.0938 - val_loss: 1860821.3750\n",
      "Epoch 265/500\n",
      "54/54 [==============================] - 1s 11ms/step - loss: 353065.5312 - val_loss: 2122167.0000\n",
      "Epoch 266/500\n",
      "54/54 [==============================] - 1s 11ms/step - loss: 381320.5938 - val_loss: 1733146.7500\n",
      "Epoch 267/500\n",
      "54/54 [==============================] - 1s 12ms/step - loss: 358130.9375 - val_loss: 1832620.2500\n",
      "Epoch 268/500\n",
      "54/54 [==============================] - 1s 11ms/step - loss: 368097.6250 - val_loss: 1839933.8750\n",
      "Epoch 269/500\n",
      "54/54 [==============================] - 1s 11ms/step - loss: 339469.3750 - val_loss: 2009192.0000\n",
      "Epoch 270/500\n",
      "54/54 [==============================] - 1s 11ms/step - loss: 345894.2188 - val_loss: 1962994.5000\n",
      "Epoch 271/500\n",
      "54/54 [==============================] - 1s 11ms/step - loss: 364429.7188 - val_loss: 1817597.0000\n",
      "Epoch 272/500\n",
      "54/54 [==============================] - 1s 13ms/step - loss: 355286.1875 - val_loss: 1845415.0000\n",
      "Epoch 273/500\n",
      "54/54 [==============================] - 1s 11ms/step - loss: 349676.9375 - val_loss: 1755848.1250\n",
      "Epoch 274/500\n",
      "54/54 [==============================] - 1s 12ms/step - loss: 332326.7188 - val_loss: 1916918.0000\n",
      "Epoch 275/500\n",
      "54/54 [==============================] - 1s 10ms/step - loss: 345709.3438 - val_loss: 1759206.8750\n",
      "Epoch 276/500\n",
      "54/54 [==============================] - 1s 11ms/step - loss: 362413.8438 - val_loss: 1779292.7500\n",
      "Epoch 277/500\n",
      "54/54 [==============================] - 1s 11ms/step - loss: 323123.8125 - val_loss: 1856932.8750\n",
      "Epoch 278/500\n",
      "54/54 [==============================] - 1s 10ms/step - loss: 331449.0000 - val_loss: 1896421.1250\n",
      "Epoch 279/500\n",
      "54/54 [==============================] - 1s 11ms/step - loss: 316297.7188 - val_loss: 1807357.0000\n",
      "Epoch 280/500\n",
      "54/54 [==============================] - 1s 11ms/step - loss: 340910.0312 - val_loss: 1867874.6250\n",
      "Epoch 281/500\n",
      "54/54 [==============================] - 1s 10ms/step - loss: 327070.7500 - val_loss: 1826478.3750\n",
      "Epoch 282/500\n",
      "54/54 [==============================] - 1s 11ms/step - loss: 311199.9375 - val_loss: 2021375.2500\n",
      "Epoch 283/500\n",
      "54/54 [==============================] - 1s 11ms/step - loss: 345469.5938 - val_loss: 1700927.0000\n",
      "Epoch 284/500\n",
      "54/54 [==============================] - 1s 12ms/step - loss: 346862.0938 - val_loss: 1947109.8750\n",
      "Epoch 285/500\n",
      "54/54 [==============================] - 1s 10ms/step - loss: 353213.8438 - val_loss: 1902317.1250\n",
      "Epoch 286/500\n",
      "54/54 [==============================] - 1s 10ms/step - loss: 325935.2500 - val_loss: 1980617.7500\n",
      "Epoch 287/500\n",
      "54/54 [==============================] - 1s 10ms/step - loss: 370385.0938 - val_loss: 1857803.1250\n",
      "Epoch 288/500\n",
      "54/54 [==============================] - 1s 11ms/step - loss: 346579.6562 - val_loss: 1733116.3750\n",
      "Epoch 289/500\n",
      "54/54 [==============================] - 1s 11ms/step - loss: 326972.4375 - val_loss: 2009030.6250\n",
      "Epoch 290/500\n",
      "54/54 [==============================] - 1s 10ms/step - loss: 341137.1562 - val_loss: 1765229.0000\n",
      "Epoch 291/500\n",
      "54/54 [==============================] - 1s 12ms/step - loss: 333883.3750 - val_loss: 1771721.3750\n",
      "Epoch 292/500\n",
      "54/54 [==============================] - 1s 11ms/step - loss: 313192.8750 - val_loss: 1763341.6250\n",
      "Epoch 293/500\n",
      "54/54 [==============================] - 1s 11ms/step - loss: 320024.4062 - val_loss: 1868628.1250\n",
      "Epoch 294/500\n",
      "54/54 [==============================] - 1s 10ms/step - loss: 314202.5625 - val_loss: 1851602.2500\n",
      "Epoch 295/500\n",
      "54/54 [==============================] - 1s 10ms/step - loss: 290338.4688 - val_loss: 1814913.6250\n",
      "Epoch 296/500\n",
      "54/54 [==============================] - 1s 11ms/step - loss: 293062.1875 - val_loss: 2007286.0000\n",
      "Epoch 297/500\n",
      "54/54 [==============================] - 1s 11ms/step - loss: 314632.3438 - val_loss: 1876489.7500\n",
      "Epoch 298/500\n",
      "54/54 [==============================] - 1s 10ms/step - loss: 296299.0000 - val_loss: 1796410.0000\n",
      "Epoch 299/500\n",
      "54/54 [==============================] - 1s 11ms/step - loss: 311020.2188 - val_loss: 1833961.7500\n",
      "Epoch 300/500\n",
      "54/54 [==============================] - 1s 11ms/step - loss: 298635.2188 - val_loss: 1746576.5000\n",
      "Epoch 301/500\n",
      "54/54 [==============================] - 1s 11ms/step - loss: 324814.0938 - val_loss: 1874298.8750\n",
      "Epoch 302/500\n",
      "54/54 [==============================] - 1s 10ms/step - loss: 307331.5000 - val_loss: 1819035.2500\n",
      "Epoch 303/500\n",
      "54/54 [==============================] - 1s 12ms/step - loss: 310351.5312 - val_loss: 1812891.8750\n",
      "Epoch 304/500\n",
      "54/54 [==============================] - 1s 20ms/step - loss: 301180.3125 - val_loss: 1821602.2500\n",
      "Epoch 305/500\n",
      "54/54 [==============================] - 1s 15ms/step - loss: 317692.7188 - val_loss: 1875079.7500\n",
      "Epoch 306/500\n",
      "54/54 [==============================] - 1s 11ms/step - loss: 292959.5938 - val_loss: 1866256.5000\n",
      "Epoch 307/500\n",
      "54/54 [==============================] - 1s 12ms/step - loss: 298077.4688 - val_loss: 1850601.3750\n",
      "Epoch 308/500\n",
      "54/54 [==============================] - 1s 11ms/step - loss: 300054.9062 - val_loss: 1906429.0000\n",
      "Epoch 309/500\n",
      "54/54 [==============================] - 1s 11ms/step - loss: 283667.0312 - val_loss: 1923182.5000\n",
      "Epoch 310/500\n",
      "54/54 [==============================] - 1s 10ms/step - loss: 272347.2500 - val_loss: 1802615.3750\n",
      "Epoch 311/500\n",
      "54/54 [==============================] - 1s 11ms/step - loss: 276995.5938 - val_loss: 2073858.1250\n",
      "Epoch 312/500\n",
      "54/54 [==============================] - 1s 11ms/step - loss: 324871.8750 - val_loss: 1982313.2500\n",
      "Epoch 313/500\n",
      "54/54 [==============================] - 1s 12ms/step - loss: 325467.9062 - val_loss: 1896227.8750\n",
      "Epoch 314/500\n",
      "54/54 [==============================] - 1s 10ms/step - loss: 293408.8438 - val_loss: 1879893.1250\n",
      "Epoch 315/500\n",
      "54/54 [==============================] - 1s 11ms/step - loss: 310195.4375 - val_loss: 1815313.6250\n",
      "Epoch 316/500\n",
      "54/54 [==============================] - 1s 11ms/step - loss: 319814.3125 - val_loss: 1776417.5000\n",
      "Epoch 317/500\n",
      "54/54 [==============================] - 1s 11ms/step - loss: 339397.4375 - val_loss: 1791430.6250\n",
      "Epoch 318/500\n",
      "54/54 [==============================] - 1s 10ms/step - loss: 312266.8125 - val_loss: 2032850.6250\n",
      "Epoch 319/500\n",
      "54/54 [==============================] - 1s 11ms/step - loss: 286586.8438 - val_loss: 1884872.0000\n",
      "Epoch 320/500\n",
      "54/54 [==============================] - 1s 11ms/step - loss: 282676.4688 - val_loss: 1841042.5000\n",
      "Epoch 321/500\n",
      "54/54 [==============================] - 1s 11ms/step - loss: 277375.8438 - val_loss: 1964321.8750\n",
      "Epoch 322/500\n",
      "54/54 [==============================] - 1s 10ms/step - loss: 312485.0000 - val_loss: 1917312.8750\n",
      "Epoch 323/500\n",
      "54/54 [==============================] - 1s 10ms/step - loss: 305052.7188 - val_loss: 1859552.6250\n",
      "Epoch 324/500\n",
      "54/54 [==============================] - 1s 11ms/step - loss: 275777.8125 - val_loss: 1862460.5000\n",
      "Epoch 325/500\n",
      "54/54 [==============================] - 1s 11ms/step - loss: 260721.0781 - val_loss: 1861528.1250\n",
      "Epoch 326/500\n",
      "54/54 [==============================] - 1s 10ms/step - loss: 263042.1562 - val_loss: 1785646.3750\n",
      "Epoch 327/500\n",
      "54/54 [==============================] - 1s 11ms/step - loss: 273843.3125 - val_loss: 1830919.2500\n",
      "Epoch 328/500\n",
      "54/54 [==============================] - 1s 11ms/step - loss: 305412.6562 - val_loss: 2016215.6250\n",
      "Epoch 329/500\n",
      "54/54 [==============================] - 1s 10ms/step - loss: 309193.6562 - val_loss: 1960854.5000\n",
      "Epoch 330/500\n",
      "54/54 [==============================] - 1s 10ms/step - loss: 292544.8125 - val_loss: 1868287.0000\n",
      "Epoch 331/500\n",
      "54/54 [==============================] - 1s 11ms/step - loss: 273215.5000 - val_loss: 1979302.8750\n",
      "Epoch 332/500\n",
      "54/54 [==============================] - 1s 10ms/step - loss: 271061.7812 - val_loss: 1844433.8750\n",
      "Epoch 333/500\n",
      "54/54 [==============================] - 1s 10ms/step - loss: 275239.9062 - val_loss: 2072556.1250\n",
      "Epoch 334/500\n",
      "54/54 [==============================] - 1s 11ms/step - loss: 272041.3438 - val_loss: 1947686.2500\n",
      "Epoch 335/500\n",
      "54/54 [==============================] - 1s 11ms/step - loss: 266111.7500 - val_loss: 1953922.0000\n",
      "Epoch 336/500\n",
      "54/54 [==============================] - 1s 10ms/step - loss: 294110.7812 - val_loss: 1859136.1250\n",
      "Epoch 337/500\n",
      "54/54 [==============================] - 1s 10ms/step - loss: 284648.8125 - val_loss: 1882696.5000\n",
      "Epoch 338/500\n",
      "54/54 [==============================] - 1s 11ms/step - loss: 260255.3125 - val_loss: 1926741.0000\n",
      "Epoch 339/500\n",
      "54/54 [==============================] - 1s 13ms/step - loss: 284841.0312 - val_loss: 1791556.0000\n",
      "Epoch 340/500\n",
      "54/54 [==============================] - 1s 11ms/step - loss: 265274.1562 - val_loss: 1894421.1250\n",
      "Epoch 341/500\n",
      "54/54 [==============================] - 1s 12ms/step - loss: 245567.8438 - val_loss: 1970987.1250\n",
      "Epoch 342/500\n",
      "54/54 [==============================] - 1s 10ms/step - loss: 263601.4688 - val_loss: 1985719.5000\n",
      "Epoch 343/500\n",
      "54/54 [==============================] - 1s 10ms/step - loss: 283591.3125 - val_loss: 1864992.0000\n",
      "Epoch 344/500\n",
      "54/54 [==============================] - 1s 11ms/step - loss: 292882.0000 - val_loss: 1906910.5000\n",
      "Epoch 345/500\n",
      "54/54 [==============================] - 1s 11ms/step - loss: 295257.7812 - val_loss: 1963997.7500\n",
      "Epoch 346/500\n",
      "54/54 [==============================] - 1s 12ms/step - loss: 262915.4062 - val_loss: 1834340.8750\n",
      "Epoch 347/500\n",
      "54/54 [==============================] - 1s 11ms/step - loss: 272552.6875 - val_loss: 1908197.6250\n",
      "Epoch 348/500\n",
      "54/54 [==============================] - 1s 11ms/step - loss: 270281.0000 - val_loss: 1814448.8750\n",
      "Epoch 349/500\n",
      "54/54 [==============================] - 1s 11ms/step - loss: 254538.9688 - val_loss: 1903552.6250\n",
      "Epoch 350/500\n",
      "54/54 [==============================] - 1s 11ms/step - loss: 249133.3438 - val_loss: 1758248.3750\n",
      "Epoch 351/500\n",
      "54/54 [==============================] - 1s 11ms/step - loss: 301970.4062 - val_loss: 1926145.7500\n",
      "Epoch 352/500\n",
      "54/54 [==============================] - 1s 10ms/step - loss: 255410.4688 - val_loss: 1873036.2500\n",
      "Epoch 353/500\n",
      "54/54 [==============================] - 1s 10ms/step - loss: 239693.7500 - val_loss: 1873914.0000\n",
      "Epoch 354/500\n",
      "54/54 [==============================] - 1s 10ms/step - loss: 257428.1562 - val_loss: 1817101.6250\n",
      "Epoch 355/500\n",
      "54/54 [==============================] - 1s 11ms/step - loss: 239205.9062 - val_loss: 1849610.6250\n",
      "Epoch 356/500\n",
      "54/54 [==============================] - 1s 14ms/step - loss: 254322.4844 - val_loss: 1849808.8750\n",
      "Epoch 357/500\n",
      "54/54 [==============================] - 1s 23ms/step - loss: 262066.2344 - val_loss: 1793349.5000\n",
      "Epoch 358/500\n",
      "54/54 [==============================] - 1s 12ms/step - loss: 229809.9531 - val_loss: 1875354.2500\n",
      "Epoch 359/500\n",
      "54/54 [==============================] - 1s 11ms/step - loss: 226538.7031 - val_loss: 1983144.6250\n",
      "Epoch 360/500\n",
      "54/54 [==============================] - 1s 10ms/step - loss: 258401.0625 - val_loss: 1827816.2500\n",
      "Epoch 361/500\n",
      "54/54 [==============================] - 1s 11ms/step - loss: 254075.6406 - val_loss: 1797995.3750\n",
      "Epoch 362/500\n",
      "54/54 [==============================] - 1s 11ms/step - loss: 236939.2344 - val_loss: 1872083.8750\n",
      "Epoch 363/500\n",
      "54/54 [==============================] - 1s 10ms/step - loss: 235058.5469 - val_loss: 1799219.0000\n",
      "Epoch 364/500\n",
      "54/54 [==============================] - 1s 12ms/step - loss: 233308.2188 - val_loss: 1791495.6250\n",
      "Epoch 365/500\n",
      "54/54 [==============================] - 1s 11ms/step - loss: 272099.7188 - val_loss: 1787147.5000\n",
      "Epoch 366/500\n",
      "54/54 [==============================] - 1s 11ms/step - loss: 284137.4375 - val_loss: 1751835.7500\n",
      "Epoch 367/500\n",
      "54/54 [==============================] - 1s 11ms/step - loss: 246068.3750 - val_loss: 1862691.2500\n",
      "Epoch 368/500\n",
      "54/54 [==============================] - 1s 11ms/step - loss: 258502.1406 - val_loss: 1861405.8750\n",
      "Epoch 369/500\n",
      "54/54 [==============================] - 1s 10ms/step - loss: 255115.0625 - val_loss: 1701974.5000\n",
      "Epoch 370/500\n",
      "54/54 [==============================] - 1s 11ms/step - loss: 254204.7031 - val_loss: 2014122.3750\n",
      "Epoch 371/500\n",
      "54/54 [==============================] - 1s 11ms/step - loss: 254841.5938 - val_loss: 1825633.0000\n",
      "Epoch 372/500\n",
      "54/54 [==============================] - 1s 11ms/step - loss: 231304.0000 - val_loss: 1785143.7500\n",
      "Epoch 373/500\n",
      "54/54 [==============================] - 1s 11ms/step - loss: 234348.5469 - val_loss: 1839446.5000\n",
      "Epoch 374/500\n",
      "54/54 [==============================] - 1s 11ms/step - loss: 233579.7188 - val_loss: 1823495.2500\n",
      "Epoch 375/500\n",
      "54/54 [==============================] - 1s 11ms/step - loss: 238569.5312 - val_loss: 1844914.6250\n",
      "Epoch 376/500\n",
      "54/54 [==============================] - 1s 11ms/step - loss: 223070.5781 - val_loss: 1822161.5000\n",
      "Epoch 377/500\n",
      "54/54 [==============================] - 1s 11ms/step - loss: 239844.6719 - val_loss: 1991022.3750\n",
      "Epoch 378/500\n",
      "54/54 [==============================] - 1s 11ms/step - loss: 282435.3125 - val_loss: 1946266.5000\n",
      "Epoch 379/500\n",
      "54/54 [==============================] - 1s 11ms/step - loss: 260765.3438 - val_loss: 1966405.1250\n",
      "Epoch 380/500\n",
      "54/54 [==============================] - 1s 11ms/step - loss: 255393.8281 - val_loss: 1936138.0000\n",
      "Epoch 381/500\n",
      "54/54 [==============================] - 1s 11ms/step - loss: 246210.8906 - val_loss: 1877213.8750\n",
      "Epoch 382/500\n",
      "54/54 [==============================] - 1s 11ms/step - loss: 227971.4531 - val_loss: 1839996.8750\n",
      "Epoch 383/500\n",
      "54/54 [==============================] - 1s 11ms/step - loss: 206299.7344 - val_loss: 2012650.3750\n",
      "Epoch 384/500\n",
      "54/54 [==============================] - 1s 11ms/step - loss: 262138.0000 - val_loss: 2121684.5000\n",
      "Epoch 385/500\n",
      "54/54 [==============================] - 1s 11ms/step - loss: 248461.2344 - val_loss: 1884168.8750\n",
      "Epoch 386/500\n",
      "54/54 [==============================] - 1s 11ms/step - loss: 224350.1250 - val_loss: 1903656.2500\n",
      "Epoch 387/500\n",
      "54/54 [==============================] - 1s 11ms/step - loss: 205400.6719 - val_loss: 1929078.0000\n",
      "Epoch 388/500\n",
      "54/54 [==============================] - 1s 11ms/step - loss: 207994.7969 - val_loss: 1808466.3750\n",
      "Epoch 389/500\n",
      "54/54 [==============================] - 1s 11ms/step - loss: 235000.8594 - val_loss: 1887303.0000\n",
      "Epoch 390/500\n",
      "54/54 [==============================] - 1s 11ms/step - loss: 224834.4844 - val_loss: 1888395.6250\n",
      "Epoch 391/500\n",
      "54/54 [==============================] - 1s 11ms/step - loss: 225878.2344 - val_loss: 1920321.0000\n",
      "Epoch 392/500\n",
      "54/54 [==============================] - 1s 10ms/step - loss: 252806.9062 - val_loss: 2002210.5000\n",
      "Epoch 393/500\n",
      "54/54 [==============================] - 1s 11ms/step - loss: 219022.6406 - val_loss: 1764427.3750\n",
      "Epoch 394/500\n",
      "54/54 [==============================] - 1s 11ms/step - loss: 226227.3125 - val_loss: 1973776.5000\n",
      "Epoch 395/500\n",
      "54/54 [==============================] - 1s 11ms/step - loss: 222628.1250 - val_loss: 1934388.3750\n",
      "Epoch 396/500\n",
      "54/54 [==============================] - 1s 10ms/step - loss: 230793.0625 - val_loss: 1751757.2500\n",
      "Epoch 397/500\n",
      "54/54 [==============================] - 1s 11ms/step - loss: 236104.1719 - val_loss: 1930067.8750\n",
      "Epoch 398/500\n",
      "54/54 [==============================] - 1s 10ms/step - loss: 265596.3438 - val_loss: 1782355.5000\n",
      "Epoch 399/500\n",
      "54/54 [==============================] - 1s 11ms/step - loss: 226458.4688 - val_loss: 1945620.1250\n",
      "Epoch 400/500\n",
      "54/54 [==============================] - 1s 11ms/step - loss: 281732.4375 - val_loss: 2034735.2500\n",
      "Epoch 401/500\n",
      "54/54 [==============================] - 1s 13ms/step - loss: 281690.6875 - val_loss: 1811450.6250\n",
      "Epoch 402/500\n",
      "54/54 [==============================] - 1s 11ms/step - loss: 257714.5781 - val_loss: 1842594.5000\n",
      "Epoch 403/500\n",
      "54/54 [==============================] - 1s 11ms/step - loss: 233214.0312 - val_loss: 1808304.3750\n",
      "Epoch 404/500\n",
      "54/54 [==============================] - 1s 11ms/step - loss: 251426.5781 - val_loss: 1846680.3750\n",
      "Epoch 405/500\n",
      "54/54 [==============================] - 1s 10ms/step - loss: 232613.5312 - val_loss: 1802732.1250\n",
      "Epoch 406/500\n",
      "54/54 [==============================] - 1s 10ms/step - loss: 227707.1875 - val_loss: 1883851.6250\n",
      "Epoch 407/500\n",
      "54/54 [==============================] - 1s 11ms/step - loss: 233425.8125 - val_loss: 1781846.0000\n",
      "Epoch 408/500\n",
      "54/54 [==============================] - 1s 23ms/step - loss: 228771.0312 - val_loss: 1781630.8750\n",
      "Epoch 409/500\n",
      "54/54 [==============================] - 1s 14ms/step - loss: 242387.5312 - val_loss: 1984480.7500\n",
      "Epoch 410/500\n",
      "54/54 [==============================] - 1s 11ms/step - loss: 231615.4531 - val_loss: 1813886.0000\n",
      "Epoch 411/500\n",
      "54/54 [==============================] - 1s 10ms/step - loss: 205429.8438 - val_loss: 1889107.7500\n",
      "Epoch 412/500\n",
      "54/54 [==============================] - 1s 10ms/step - loss: 200610.6875 - val_loss: 1836929.0000\n",
      "Epoch 413/500\n",
      "54/54 [==============================] - 1s 10ms/step - loss: 197516.0938 - val_loss: 1810613.8750\n",
      "Epoch 414/500\n",
      "54/54 [==============================] - 1s 10ms/step - loss: 209238.7500 - val_loss: 1869946.2500\n",
      "Epoch 415/500\n",
      "54/54 [==============================] - 1s 10ms/step - loss: 205734.4062 - val_loss: 1977752.2500\n",
      "Epoch 416/500\n",
      "54/54 [==============================] - 1s 11ms/step - loss: 222562.0000 - val_loss: 1836420.1250\n",
      "Epoch 417/500\n",
      "54/54 [==============================] - 1s 11ms/step - loss: 219953.8281 - val_loss: 1721773.7500\n",
      "Epoch 418/500\n",
      "54/54 [==============================] - 1s 10ms/step - loss: 208100.2344 - val_loss: 1831544.6250\n",
      "Epoch 419/500\n",
      "54/54 [==============================] - 1s 12ms/step - loss: 201337.0000 - val_loss: 1782717.3750\n",
      "Epoch 420/500\n",
      "54/54 [==============================] - 1s 11ms/step - loss: 218321.2500 - val_loss: 1973522.0000\n",
      "Epoch 421/500\n",
      "54/54 [==============================] - 1s 10ms/step - loss: 209651.9844 - val_loss: 1703872.6250\n",
      "Epoch 422/500\n",
      "54/54 [==============================] - 1s 10ms/step - loss: 224275.2969 - val_loss: 1780047.0000\n",
      "Epoch 423/500\n",
      "54/54 [==============================] - 1s 10ms/step - loss: 203782.6719 - val_loss: 1916345.0000\n",
      "Epoch 424/500\n",
      "54/54 [==============================] - 1s 10ms/step - loss: 205838.0312 - val_loss: 2170835.5000\n",
      "Epoch 425/500\n",
      "54/54 [==============================] - 1s 11ms/step - loss: 199681.6094 - val_loss: 2008227.2500\n",
      "Epoch 426/500\n",
      "54/54 [==============================] - 1s 10ms/step - loss: 208057.3750 - val_loss: 1891580.7500\n",
      "Epoch 427/500\n",
      "54/54 [==============================] - 1s 10ms/step - loss: 201104.5781 - val_loss: 1815318.8750\n",
      "Epoch 428/500\n",
      "54/54 [==============================] - 1s 10ms/step - loss: 234200.8594 - val_loss: 1909999.0000\n",
      "Epoch 429/500\n",
      "54/54 [==============================] - 1s 10ms/step - loss: 216235.3438 - val_loss: 1796862.6250\n",
      "Epoch 430/500\n",
      "54/54 [==============================] - 1s 10ms/step - loss: 216621.2969 - val_loss: 1968862.6250\n",
      "Epoch 431/500\n",
      "54/54 [==============================] - 1s 10ms/step - loss: 229648.5000 - val_loss: 1840358.6250\n",
      "Epoch 432/500\n",
      "54/54 [==============================] - 1s 10ms/step - loss: 223832.8906 - val_loss: 1815070.7500\n",
      "Epoch 433/500\n",
      "54/54 [==============================] - 1s 10ms/step - loss: 201104.8906 - val_loss: 1737146.8750\n",
      "Epoch 434/500\n",
      "54/54 [==============================] - 1s 11ms/step - loss: 202955.1875 - val_loss: 1870803.2500\n",
      "Epoch 435/500\n",
      "54/54 [==============================] - 1s 10ms/step - loss: 225027.8125 - val_loss: 1762637.1250\n",
      "Epoch 436/500\n",
      "54/54 [==============================] - 1s 11ms/step - loss: 218646.8594 - val_loss: 1804755.1250\n",
      "Epoch 437/500\n",
      "54/54 [==============================] - 1s 10ms/step - loss: 195221.2500 - val_loss: 1872530.2500\n",
      "Epoch 438/500\n",
      "54/54 [==============================] - 1s 12ms/step - loss: 202031.7344 - val_loss: 1813351.7500\n",
      "Epoch 439/500\n",
      "54/54 [==============================] - 1s 10ms/step - loss: 197783.4688 - val_loss: 1797635.7500\n",
      "Epoch 440/500\n",
      "54/54 [==============================] - 1s 10ms/step - loss: 188208.2344 - val_loss: 1889040.5000\n",
      "Epoch 441/500\n",
      "54/54 [==============================] - 1s 11ms/step - loss: 220404.9062 - val_loss: 1881006.6250\n",
      "Epoch 442/500\n",
      "54/54 [==============================] - 1s 11ms/step - loss: 194624.2656 - val_loss: 1831633.0000\n",
      "Epoch 443/500\n",
      "54/54 [==============================] - 1s 10ms/step - loss: 214967.9531 - val_loss: 1936483.7500\n",
      "Epoch 444/500\n",
      "54/54 [==============================] - 1s 10ms/step - loss: 187833.0938 - val_loss: 2098282.5000\n",
      "Epoch 445/500\n",
      "54/54 [==============================] - 1s 10ms/step - loss: 192185.6562 - val_loss: 1800150.5000\n",
      "Epoch 446/500\n",
      "54/54 [==============================] - 1s 10ms/step - loss: 217472.7812 - val_loss: 1785118.0000\n",
      "Epoch 447/500\n",
      "54/54 [==============================] - 1s 10ms/step - loss: 206462.9375 - val_loss: 1923371.2500\n",
      "Epoch 448/500\n",
      "54/54 [==============================] - 1s 10ms/step - loss: 213583.6719 - val_loss: 1829566.3750\n",
      "Epoch 449/500\n",
      "54/54 [==============================] - 1s 10ms/step - loss: 194584.5781 - val_loss: 1810272.3750\n",
      "Epoch 450/500\n",
      "54/54 [==============================] - 1s 10ms/step - loss: 208502.8906 - val_loss: 1937238.7500\n",
      "Epoch 451/500\n",
      "54/54 [==============================] - 1s 11ms/step - loss: 199287.5000 - val_loss: 1794886.7500\n",
      "Epoch 452/500\n",
      "54/54 [==============================] - 1s 11ms/step - loss: 215726.9844 - val_loss: 1849988.7500\n",
      "Epoch 453/500\n",
      "54/54 [==============================] - 1s 11ms/step - loss: 207747.3281 - val_loss: 1793923.8750\n",
      "Epoch 454/500\n",
      "54/54 [==============================] - 1s 11ms/step - loss: 216431.7656 - val_loss: 1812790.2500\n",
      "Epoch 455/500\n",
      "54/54 [==============================] - 1s 11ms/step - loss: 213901.6250 - val_loss: 1839431.3750\n",
      "Epoch 456/500\n",
      "54/54 [==============================] - 1s 11ms/step - loss: 201828.7031 - val_loss: 1842142.5000\n",
      "Epoch 457/500\n",
      "54/54 [==============================] - 1s 12ms/step - loss: 209010.8594 - val_loss: 1828616.2500\n",
      "Epoch 458/500\n",
      "54/54 [==============================] - 1s 11ms/step - loss: 207031.8281 - val_loss: 1861712.8750\n",
      "Epoch 459/500\n",
      "54/54 [==============================] - 1s 12ms/step - loss: 222574.9219 - val_loss: 1767336.5000\n",
      "Epoch 460/500\n",
      "54/54 [==============================] - 1s 11ms/step - loss: 178405.3750 - val_loss: 1980378.6250\n",
      "Epoch 461/500\n",
      "54/54 [==============================] - 1s 24ms/step - loss: 173134.4062 - val_loss: 1844515.7500\n",
      "Epoch 462/500\n",
      "54/54 [==============================] - 1s 11ms/step - loss: 195312.4688 - val_loss: 1845961.2500\n",
      "Epoch 463/500\n",
      "54/54 [==============================] - 1s 11ms/step - loss: 188942.3594 - val_loss: 1954074.3750\n",
      "Epoch 464/500\n",
      "54/54 [==============================] - 1s 12ms/step - loss: 182373.4844 - val_loss: 1897911.6250\n",
      "Epoch 465/500\n",
      "54/54 [==============================] - 1s 11ms/step - loss: 184921.3750 - val_loss: 2025376.0000\n",
      "Epoch 466/500\n",
      "54/54 [==============================] - 1s 11ms/step - loss: 208614.3438 - val_loss: 1774027.5000\n",
      "Epoch 467/500\n",
      "54/54 [==============================] - 1s 11ms/step - loss: 219938.2031 - val_loss: 1756960.1250\n",
      "Epoch 468/500\n",
      "54/54 [==============================] - 1s 11ms/step - loss: 206693.8281 - val_loss: 1856991.0000\n",
      "Epoch 469/500\n",
      "54/54 [==============================] - 1s 10ms/step - loss: 202298.7188 - val_loss: 1810699.3750\n",
      "Epoch 470/500\n",
      "54/54 [==============================] - 1s 10ms/step - loss: 178344.4375 - val_loss: 1732922.1250\n",
      "Epoch 471/500\n",
      "54/54 [==============================] - 1s 11ms/step - loss: 179655.4844 - val_loss: 1912617.6250\n",
      "Epoch 472/500\n",
      "54/54 [==============================] - 1s 10ms/step - loss: 181123.8281 - val_loss: 1831157.0000\n",
      "Epoch 473/500\n",
      "54/54 [==============================] - 1s 11ms/step - loss: 189282.4375 - val_loss: 1786289.0000\n",
      "Epoch 474/500\n",
      "54/54 [==============================] - 1s 12ms/step - loss: 189454.6562 - val_loss: 1831829.3750\n",
      "Epoch 475/500\n",
      "54/54 [==============================] - 1s 11ms/step - loss: 213533.0312 - val_loss: 1778173.2500\n",
      "Epoch 476/500\n",
      "54/54 [==============================] - 1s 11ms/step - loss: 239444.0625 - val_loss: 1882153.6250\n",
      "Epoch 477/500\n",
      "54/54 [==============================] - 1s 11ms/step - loss: 184342.6094 - val_loss: 1826590.3750\n",
      "Epoch 478/500\n",
      "54/54 [==============================] - 1s 11ms/step - loss: 177382.5312 - val_loss: 1811702.8750\n",
      "Epoch 479/500\n",
      "54/54 [==============================] - 1s 11ms/step - loss: 169078.6250 - val_loss: 1838379.1250\n",
      "Epoch 480/500\n",
      "54/54 [==============================] - 1s 12ms/step - loss: 167468.8750 - val_loss: 1833212.7500\n",
      "Epoch 481/500\n",
      "54/54 [==============================] - 1s 11ms/step - loss: 170905.1719 - val_loss: 1877078.5000\n",
      "Epoch 482/500\n",
      "54/54 [==============================] - 1s 11ms/step - loss: 185392.9844 - val_loss: 1809510.2500\n",
      "Epoch 483/500\n",
      "54/54 [==============================] - 1s 11ms/step - loss: 196084.6250 - val_loss: 1770892.2500\n",
      "Epoch 484/500\n",
      "54/54 [==============================] - 1s 12ms/step - loss: 202053.7031 - val_loss: 1872338.7500\n",
      "Epoch 485/500\n",
      "54/54 [==============================] - 1s 11ms/step - loss: 194652.5625 - val_loss: 1775873.7500\n",
      "Epoch 486/500\n",
      "54/54 [==============================] - 1s 11ms/step - loss: 181670.2500 - val_loss: 1822541.7500\n",
      "Epoch 487/500\n",
      "54/54 [==============================] - 1s 11ms/step - loss: 200629.5312 - val_loss: 1818879.5000\n",
      "Epoch 488/500\n",
      "54/54 [==============================] - 1s 11ms/step - loss: 189646.5938 - val_loss: 1714248.3750\n",
      "Epoch 489/500\n",
      "54/54 [==============================] - 1s 11ms/step - loss: 173826.9062 - val_loss: 1829709.1250\n",
      "Epoch 490/500\n",
      "54/54 [==============================] - 1s 11ms/step - loss: 167074.7656 - val_loss: 2078370.6250\n",
      "Epoch 491/500\n",
      "54/54 [==============================] - 1s 12ms/step - loss: 200711.3750 - val_loss: 1793040.8750\n",
      "Epoch 492/500\n",
      "54/54 [==============================] - 1s 13ms/step - loss: 175719.7969 - val_loss: 1781551.2500\n",
      "Epoch 493/500\n",
      "54/54 [==============================] - 1s 10ms/step - loss: 161565.0781 - val_loss: 1936606.1250\n",
      "Epoch 494/500\n",
      "54/54 [==============================] - 1s 11ms/step - loss: 174762.7344 - val_loss: 1711596.3750\n",
      "Epoch 495/500\n",
      "54/54 [==============================] - 1s 11ms/step - loss: 183065.9062 - val_loss: 1897095.3750\n",
      "Epoch 496/500\n",
      "54/54 [==============================] - 1s 11ms/step - loss: 186420.8438 - val_loss: 1866831.3750\n",
      "Epoch 497/500\n",
      "54/54 [==============================] - 1s 11ms/step - loss: 170377.0000 - val_loss: 1821588.7500\n",
      "Epoch 498/500\n",
      "54/54 [==============================] - 1s 11ms/step - loss: 169873.7031 - val_loss: 1780559.2500\n",
      "Epoch 499/500\n",
      "54/54 [==============================] - 1s 12ms/step - loss: 183694.6875 - val_loss: 1892137.1250\n",
      "Epoch 500/500\n",
      "54/54 [==============================] - 1s 12ms/step - loss: 180558.2812 - val_loss: 1882641.6250\n"
     ]
    },
    {
     "data": {
      "text/plain": [
       "<keras.callbacks.History at 0x7f61ebbc5450>"
      ]
     },
     "execution_count": 30,
     "metadata": {},
     "output_type": "execute_result"
    }
   ],
   "source": [
    "model.fit(x=x_train, y=y_train, validation_data=(x_test, y_test), batch_size=128, epochs=500, verbose=1)"
   ]
  },
  {
   "cell_type": "code",
   "execution_count": 31,
   "metadata": {
    "execution": {
     "iopub.execute_input": "2022-12-15T22:54:20.224718Z",
     "iopub.status.busy": "2022-12-15T22:54:20.224298Z",
     "iopub.status.idle": "2022-12-15T22:54:20.234101Z",
     "shell.execute_reply": "2022-12-15T22:54:20.232742Z",
     "shell.execute_reply.started": "2022-12-15T22:54:20.224672Z"
    }
   },
   "outputs": [
    {
     "name": "stdout",
     "output_type": "stream",
     "text": [
      "Model: \"sequential\"\n",
      "_________________________________________________________________\n",
      "Layer (type)                 Output Shape              Param #   \n",
      "=================================================================\n",
      "dense (Dense)                (None, 200)               5400      \n",
      "_________________________________________________________________\n",
      "dense_1 (Dense)              (None, 200)               40200     \n",
      "_________________________________________________________________\n",
      "dense_2 (Dense)              (None, 200)               40200     \n",
      "_________________________________________________________________\n",
      "dense_3 (Dense)              (None, 200)               40200     \n",
      "_________________________________________________________________\n",
      "dense_4 (Dense)              (None, 200)               40200     \n",
      "_________________________________________________________________\n",
      "dense_5 (Dense)              (None, 200)               40200     \n",
      "_________________________________________________________________\n",
      "dense_6 (Dense)              (None, 200)               40200     \n",
      "_________________________________________________________________\n",
      "dense_7 (Dense)              (None, 200)               40200     \n",
      "_________________________________________________________________\n",
      "dense_8 (Dense)              (None, 200)               40200     \n",
      "_________________________________________________________________\n",
      "dense_9 (Dense)              (None, 1)                 201       \n",
      "=================================================================\n",
      "Total params: 327,201\n",
      "Trainable params: 327,201\n",
      "Non-trainable params: 0\n",
      "_________________________________________________________________\n"
     ]
    }
   ],
   "source": [
    "model.summary() # summary of our  model, with total of 324.601 trainable params"
   ]
  },
  {
   "cell_type": "code",
   "execution_count": 32,
   "metadata": {
    "execution": {
     "iopub.execute_input": "2022-12-15T22:54:20.235937Z",
     "iopub.status.busy": "2022-12-15T22:54:20.235563Z",
     "iopub.status.idle": "2022-12-15T22:54:20.543561Z",
     "shell.execute_reply": "2022-12-15T22:54:20.542195Z",
     "shell.execute_reply.started": "2022-12-15T22:54:20.235903Z"
    }
   },
   "outputs": [
    {
     "data": {
      "text/plain": [
       "<AxesSubplot:>"
      ]
     },
     "execution_count": 32,
     "metadata": {},
     "output_type": "execute_result"
    },
    {
     "data": {
      "image/png": "[encoded data removed]",
      "text/plain": [
       "<Figure size 864x576 with 1 Axes>"
      ]
     },
     "metadata": {
      "needs_background": "light"
     },
     "output_type": "display_data"
    }
   ],
   "source": [
    "loss_df=pd.DataFrame(model.history.history)\n",
    "loss_df.plot(figsize=(12,8)) # Show results in a graph"
   ]
  },
  {
   "cell_type": "code",
   "execution_count": 33,
   "metadata": {
    "execution": {
     "iopub.execute_input": "2022-12-15T22:54:20.546040Z",
     "iopub.status.busy": "2022-12-15T22:54:20.545671Z",
     "iopub.status.idle": "2022-12-15T22:54:20.936382Z",
     "shell.execute_reply": "2022-12-15T22:54:20.935302Z",
     "shell.execute_reply.started": "2022-12-15T22:54:20.546001Z"
    }
   },
   "outputs": [],
   "source": [
    "pred=model.predict(x_test) # predict model"
   ]
  },
  {
   "cell_type": "code",
   "execution_count": 34,
   "metadata": {
    "execution": {
     "iopub.execute_input": "2022-12-15T22:54:20.939567Z",
     "iopub.status.busy": "2022-12-15T22:54:20.938091Z",
     "iopub.status.idle": "2022-12-15T22:54:20.952541Z",
     "shell.execute_reply": "2022-12-15T22:54:20.950908Z",
     "shell.execute_reply.started": "2022-12-15T22:54:20.939486Z"
    }
   },
   "outputs": [
    {
     "name": "stdout",
     "output_type": "stream",
     "text": [
      "MSE: 1372.0938459200008\n",
      "R2 Score: 0.307335446723659\n"
     ]
    }
   ],
   "source": [
    "# show results\n",
    "print(\"MSE:\", (mean_squared_error(y_test,pred))**.5)\n",
    "print(\"R2 Score:\", r2_score(y_test,pred))"
   ]
  },
  {
   "cell_type": "markdown",
   "metadata": {},
   "source": [
    "We have a **R2 Score of only 31%** and a **MSE of 1372.1** using deep learning with 500 epochs."
   ]
  },
  {
   "cell_type": "markdown",
   "metadata": {},
   "source": [
    "All in all our model has not great results. I tried to get the R2 Score higher but this was the best I could do for now. Stay tuned for updates if we gain more knowledge."
   ]
  },
  {
   "cell_type": "code",
   "execution_count": null,
   "metadata": {},
   "outputs": [],
   "source": []
  }
 ],
 "metadata": {
  "kernelspec": {
   "display_name": "Python 3 (ipykernel)",
   "language": "python",
   "name": "python3"
  },
  "language_info": {
   "codemirror_mode": {
    "name": "ipython",
    "version": 3
   },
   "file_extension": ".py",
   "mimetype": "text/x-python",
   "name": "python",
   "nbconvert_exporter": "python",
   "pygments_lexer": "ipython3",
   "version": "3.9.12"
  }
 },
 "nbformat": 4,
 "nbformat_minor": 4
}
